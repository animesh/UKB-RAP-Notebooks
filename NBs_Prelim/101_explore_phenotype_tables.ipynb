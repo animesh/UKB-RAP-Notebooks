{
 "cells": [
  {
   "cell_type": "markdown",
   "metadata": {},
   "source": [
    "# Explore phenotype tables\n",
    "\n",
    "> This notebook explains how to connect to the phenotypic database and retrieve information about available tables (using Python)\n",
    "\n",
    "- runtime: 5min \n",
    "- recommended instance: mem1_ssd1_v2_x8\n",
    "- cost: <£0.10\n",
    "\n",
    "This notebook depends on:\n",
    "* **A Spark instance**\n",
    "\n",
    "This notebook describes the basics of connecting to phenotype databases and exploring tables and fields.\n",
    "We will use a `dxdata.connect` function to initiate a connection to the database. \n",
    "Next, we will learn how to obtain the project and dataset IDs required to load a dataset.\n",
    "We will iterate through the tables in the dataset and obtain a short description of each table. \n",
    "Finally, we will retrieve the information from one of these tables to local memory, inspect the content, and print the few first rows of the data.\n"
   ]
  },
  {
   "cell_type": "markdown",
   "metadata": {},
   "source": [
    "## Import `dxdata` package for subsequent Spark engine employment\n",
    "### Docs at: https://github.com/dnanexus/OpenBio/blob/master/dxdata/getting_started_with_dxdata.ipynb"
   ]
  },
  {
   "cell_type": "code",
   "execution_count": 1,
   "metadata": {
    "tags": []
   },
   "outputs": [],
   "source": [
    "import dxdata\n",
    "import os"
   ]
  },
  {
   "cell_type": "markdown",
   "metadata": {},
   "source": [
    "## Connect to the dataset\n",
    "\n",
    "In the next step, we need to input your project ID and dataset ID. \n",
    "Use the following shell commands to find the values specific to your project:"
   ]
  },
  {
   "cell_type": "code",
   "execution_count": null,
   "metadata": {
    "tags": []
   },
   "outputs": [],
   "source": [
    "project = os.popen(\"dx env | grep project- | awk -F '\\t' '{print $2}'\").read().rstrip()\n",
    "project"
   ]
  },
  {
   "cell_type": "code",
   "execution_count": null,
   "metadata": {
    "tags": []
   },
   "outputs": [],
   "source": [
    "record = os.popen(\"dx describe *dataset | grep  record- | awk -F ' ' '{print $2}'\").read().rstrip().split('\\n')[0]\n",
    "record"
   ]
  },
  {
   "cell_type": "markdown",
   "metadata": {},
   "source": [
    "Next, we can set a `DATASET_ID` variable, which takes a value: [projectID]:[dataset ID]\n",
    "We use it to define the `dataset` with `dxdata.load_dataset` function."
   ]
  },
  {
   "cell_type": "code",
   "execution_count": null,
   "metadata": {
    "tags": []
   },
   "outputs": [],
   "source": [
    "DATASET_ID = project + \":\" + record\n",
    "DATASET_ID"
   ]
  },
  {
   "cell_type": "code",
   "execution_count": 5,
   "metadata": {
    "tags": []
   },
   "outputs": [],
   "source": [
    "#load dataset\n",
    "dataset = dxdata.load_dataset(id=DATASET_ID)"
   ]
  },
  {
   "cell_type": "markdown",
   "metadata": {},
   "source": [
    "## Explore the dataset\n",
    "\n",
    "In this step, we iterate through the tables in `dataset`, printing the table ID, title, and short description.\n",
    "For example, the `participant` table contains general UK Biobank participant data. \n",
    "Other tables contain specific information, like hospitalization records, \n",
    "death records, GP registration, and COVID-19 results. \n",
    "Different tables might be available in your project - you will see tables associated with fields approved in your application.\n",
    "See more info in UK Biobank Docs [here](https://dnanexus.gitbook.io/uk-biobank-rap/getting-started/working-with-ukb-data)."
   ]
  },
  {
   "cell_type": "code",
   "execution_count": 6,
   "metadata": {
    "tags": []
   },
   "outputs": [
    {
     "name": "stdout",
     "output_type": "stream",
     "text": [
      "-> Participant [participant]\n",
      "\n",
      "-> Death Cause Record [death_cause]\n",
      "\n",
      "-> Hospitalization Record [hesin]\n",
      "\n",
      "-> Hospital Critical Care Record [hesin_critical]\n",
      "\n",
      "-> Hospital Delivery Record [hesin_delivery]\n",
      "\n",
      "-> Death Record [death]\n",
      "\n",
      "-> Hospital Maternity Record [hesin_maternity]\n",
      "\n",
      "-> Hospital Operation Record [hesin_oper]\n",
      "\n",
      "-> Hospital Diagnosis Record [hesin_diag]\n",
      "\n",
      "-> Hospital Psychiatric Detention Record [hesin_psych]\n",
      "\n",
      "-> COVID19 Test Result Record (England) [covid19_result_england]\n",
      "\n",
      "-> COVID19 Test Result Record (Scotland) [covid19_result_scotland]\n",
      "\n",
      "-> COVID19 Test Result Record (Wales) [covid19_result_wales]\n",
      "\n",
      "-> GP Clinical Event Record [gp_clinical]\n",
      "\n",
      "-> GP Registration Record [gp_registrations]\n",
      "\n",
      "-> GP Prescription Record [gp_scripts]\n",
      "\n"
     ]
    }
   ],
   "source": [
    "for _ in dataset.entities:\n",
    "    print('-> ' + _.entity_label_singular + ' [' + _.name + ']' )\n",
    "    print(_.entity_description)"
   ]
  },
  {
   "cell_type": "markdown",
   "metadata": {},
   "source": [
    "## Retrieve data from the table\n",
    "\n",
    "Following functions select the `participant` table, retrieve data to local memory, \n",
    "and convert them to [Pandas](https://pandas.pydata.org/) data frame."
   ]
  },
  {
   "cell_type": "code",
   "execution_count": 7,
   "metadata": {
    "tags": []
   },
   "outputs": [],
   "source": [
    "participant = dataset['participant']"
   ]
  },
  {
   "cell_type": "markdown",
   "metadata": {},
   "source": [
    "Here we select the first 5 fields from the `participant` table"
   ]
  },
  {
   "cell_type": "code",
   "execution_count": 8,
   "metadata": {
    "tags": []
   },
   "outputs": [
    {
     "data": {
      "text/plain": [
       "[<Field \"eid\">,\n",
       " <Field \"p3_i0\">,\n",
       " <Field \"p3_i1\">,\n",
       " <Field \"p3_i2\">,\n",
       " <Field \"p3_i3\">]"
      ]
     },
     "execution_count": 8,
     "metadata": {},
     "output_type": "execute_result"
    }
   ],
   "source": [
    "fields = participant.fields[0:5]\n",
    "fields"
   ]
  },
  {
   "cell_type": "markdown",
   "metadata": {},
   "source": [
    "Next, we retrieve the data and convert them to a pandas table. \n",
    "\n",
    "We can limit the number of rows retrieved. In the following example, we retrieve the first 100 rows."
   ]
  },
  {
   "cell_type": "code",
   "execution_count": null,
   "metadata": {
    "tags": []
   },
   "outputs": [],
   "source": [
    "participant_data = participant.retrieve_fields(engine=dxdata.connect(), fields=fields, coding_values=\"replace\", limit=100)"
   ]
  },
  {
   "cell_type": "markdown",
   "metadata": {},
   "source": [
    "In the step above, we obtain a PySpark DataFrame - a distributed dataset.\n",
    "\n",
    "We assess columns and row count with the following commands:"
   ]
  },
  {
   "cell_type": "code",
   "execution_count": 11,
   "metadata": {
    "tags": []
   },
   "outputs": [
    {
     "name": "stderr",
     "output_type": "stream",
     "text": [
      "                                                                                \r"
     ]
    },
    {
     "data": {
      "text/plain": [
       "DataFrame[summary: string, eid: string, p3_i0: string, p3_i1: string, p3_i2: string, p3_i3: string]"
      ]
     },
     "execution_count": 11,
     "metadata": {},
     "output_type": "execute_result"
    }
   ],
   "source": [
    "participant_data.describe()"
   ]
  },
  {
   "cell_type": "code",
   "execution_count": 12,
   "metadata": {
    "tags": []
   },
   "outputs": [
    {
     "data": {
      "text/plain": [
       "100"
      ]
     },
     "execution_count": 12,
     "metadata": {},
     "output_type": "execute_result"
    }
   ],
   "source": [
    "participant_data.count()"
   ]
  },
  {
   "cell_type": "markdown",
   "metadata": {},
   "source": [
    "The command below collects distributed data from PySpark DataFrame and converts it to a pandas table:"
   ]
  },
  {
   "cell_type": "code",
   "execution_count": 12,
   "metadata": {
    "tags": []
   },
   "outputs": [],
   "source": [
    "participant_data_pd = participant_data.toPandas()"
   ]
  },
  {
   "cell_type": "markdown",
   "metadata": {},
   "source": [
    "Finally, we rename the columns to reflect column titles rather than IDs."
   ]
  },
  {
   "cell_type": "code",
   "execution_count": 13,
   "metadata": {
    "tags": []
   },
   "outputs": [],
   "source": [
    "colnames = [_.title for _ in fields]\n",
    "participant_data_pd.columns = colnames"
   ]
  },
  {
   "cell_type": "markdown",
   "metadata": {},
   "source": [
    "\n",
    "## Inspect the content of the table\n",
    "\n",
    "Here we print some basic information about the data in the `participant_data` table.\n",
    "`count` shows the number of columns, `unique` shows the number of unique participants, \n",
    "`top` shows the most common value, and `freq` counts how many times this value is observed."
   ]
  },
  {
   "cell_type": "code",
   "execution_count": 14,
   "metadata": {
    "tags": []
   },
   "outputs": [
    {
     "data": {
      "text/html": [
       "<div>\n",
       "<style scoped>\n",
       "    .dataframe tbody tr th:only-of-type {\n",
       "        vertical-align: middle;\n",
       "    }\n",
       "\n",
       "    .dataframe tbody tr th {\n",
       "        vertical-align: top;\n",
       "    }\n",
       "\n",
       "    .dataframe thead th {\n",
       "        text-align: right;\n",
       "    }\n",
       "</style>\n",
       "<table border=\"1\" class=\"dataframe\">\n",
       "  <thead>\n",
       "    <tr style=\"text-align: right;\">\n",
       "      <th></th>\n",
       "      <th>Participant ID</th>\n",
       "      <th>Verbal interview duration | Instance 0</th>\n",
       "      <th>Verbal interview duration | Instance 1</th>\n",
       "      <th>Verbal interview duration | Instance 2</th>\n",
       "      <th>Verbal interview duration | Instance 3</th>\n",
       "    </tr>\n",
       "  </thead>\n",
       "  <tbody>\n",
       "    <tr>\n",
       "      <th>count</th>\n",
       "      <td>100</td>\n",
       "      <td>100.000000</td>\n",
       "      <td>4.000000</td>\n",
       "      <td>12.000000</td>\n",
       "      <td>1.0</td>\n",
       "    </tr>\n",
       "    <tr>\n",
       "      <th>unique</th>\n",
       "      <td>100</td>\n",
       "      <td>NaN</td>\n",
       "      <td>NaN</td>\n",
       "      <td>NaN</td>\n",
       "      <td>NaN</td>\n",
       "    </tr>\n",
       "    <tr>\n",
       "      <th>top</th>\n",
       "      <td>5982304</td>\n",
       "      <td>NaN</td>\n",
       "      <td>NaN</td>\n",
       "      <td>NaN</td>\n",
       "      <td>NaN</td>\n",
       "    </tr>\n",
       "    <tr>\n",
       "      <th>freq</th>\n",
       "      <td>1</td>\n",
       "      <td>NaN</td>\n",
       "      <td>NaN</td>\n",
       "      <td>NaN</td>\n",
       "      <td>NaN</td>\n",
       "    </tr>\n",
       "    <tr>\n",
       "      <th>mean</th>\n",
       "      <td>NaN</td>\n",
       "      <td>492.930000</td>\n",
       "      <td>589.750000</td>\n",
       "      <td>596.916667</td>\n",
       "      <td>591.0</td>\n",
       "    </tr>\n",
       "    <tr>\n",
       "      <th>std</th>\n",
       "      <td>NaN</td>\n",
       "      <td>251.554491</td>\n",
       "      <td>214.454929</td>\n",
       "      <td>228.428807</td>\n",
       "      <td>NaN</td>\n",
       "    </tr>\n",
       "    <tr>\n",
       "      <th>min</th>\n",
       "      <td>NaN</td>\n",
       "      <td>162.000000</td>\n",
       "      <td>418.000000</td>\n",
       "      <td>256.000000</td>\n",
       "      <td>591.0</td>\n",
       "    </tr>\n",
       "    <tr>\n",
       "      <th>25%</th>\n",
       "      <td>NaN</td>\n",
       "      <td>330.250000</td>\n",
       "      <td>484.000000</td>\n",
       "      <td>485.000000</td>\n",
       "      <td>591.0</td>\n",
       "    </tr>\n",
       "    <tr>\n",
       "      <th>50%</th>\n",
       "      <td>NaN</td>\n",
       "      <td>425.000000</td>\n",
       "      <td>519.000000</td>\n",
       "      <td>561.000000</td>\n",
       "      <td>591.0</td>\n",
       "    </tr>\n",
       "    <tr>\n",
       "      <th>75%</th>\n",
       "      <td>NaN</td>\n",
       "      <td>552.250000</td>\n",
       "      <td>624.750000</td>\n",
       "      <td>730.500000</td>\n",
       "      <td>591.0</td>\n",
       "    </tr>\n",
       "    <tr>\n",
       "      <th>max</th>\n",
       "      <td>NaN</td>\n",
       "      <td>1547.000000</td>\n",
       "      <td>903.000000</td>\n",
       "      <td>1004.000000</td>\n",
       "      <td>591.0</td>\n",
       "    </tr>\n",
       "  </tbody>\n",
       "</table>\n",
       "</div>"
      ],
      "text/plain": [
       "       Participant ID  Verbal interview duration | Instance 0  \\\n",
       "count             100                              100.000000   \n",
       "unique            100                                     NaN   \n",
       "top           5982304                                     NaN   \n",
       "freq                1                                     NaN   \n",
       "mean              NaN                              492.930000   \n",
       "std               NaN                              251.554491   \n",
       "min               NaN                              162.000000   \n",
       "25%               NaN                              330.250000   \n",
       "50%               NaN                              425.000000   \n",
       "75%               NaN                              552.250000   \n",
       "max               NaN                             1547.000000   \n",
       "\n",
       "        Verbal interview duration | Instance 1  \\\n",
       "count                                 4.000000   \n",
       "unique                                     NaN   \n",
       "top                                        NaN   \n",
       "freq                                       NaN   \n",
       "mean                                589.750000   \n",
       "std                                 214.454929   \n",
       "min                                 418.000000   \n",
       "25%                                 484.000000   \n",
       "50%                                 519.000000   \n",
       "75%                                 624.750000   \n",
       "max                                 903.000000   \n",
       "\n",
       "        Verbal interview duration | Instance 2  \\\n",
       "count                                12.000000   \n",
       "unique                                     NaN   \n",
       "top                                        NaN   \n",
       "freq                                       NaN   \n",
       "mean                                596.916667   \n",
       "std                                 228.428807   \n",
       "min                                 256.000000   \n",
       "25%                                 485.000000   \n",
       "50%                                 561.000000   \n",
       "75%                                 730.500000   \n",
       "max                                1004.000000   \n",
       "\n",
       "        Verbal interview duration | Instance 3  \n",
       "count                                      1.0  \n",
       "unique                                     NaN  \n",
       "top                                        NaN  \n",
       "freq                                       NaN  \n",
       "mean                                     591.0  \n",
       "std                                        NaN  \n",
       "min                                      591.0  \n",
       "25%                                      591.0  \n",
       "50%                                      591.0  \n",
       "75%                                      591.0  \n",
       "max                                      591.0  "
      ]
     },
     "execution_count": 14,
     "metadata": {},
     "output_type": "execute_result"
    }
   ],
   "source": [
    "participant_data_pd.describe(include='all')"
   ]
  },
  {
   "cell_type": "markdown",
   "metadata": {},
   "source": [
    "## Print the top rows of the data\n",
    "\n",
    "It is possible to use the `head` function to render the table representing the first five rows in the retrieved table:"
   ]
  },
  {
   "cell_type": "code",
   "execution_count": 15,
   "metadata": {
    "tags": []
   },
   "outputs": [
    {
     "data": {
      "text/html": [
       "<div>\n",
       "<style scoped>\n",
       "    .dataframe tbody tr th:only-of-type {\n",
       "        vertical-align: middle;\n",
       "    }\n",
       "\n",
       "    .dataframe tbody tr th {\n",
       "        vertical-align: top;\n",
       "    }\n",
       "\n",
       "    .dataframe thead th {\n",
       "        text-align: right;\n",
       "    }\n",
       "</style>\n",
       "<table border=\"1\" class=\"dataframe\">\n",
       "  <thead>\n",
       "    <tr style=\"text-align: right;\">\n",
       "      <th></th>\n",
       "      <th>Verbal interview duration | Instance 0</th>\n",
       "      <th>Verbal interview duration | Instance 1</th>\n",
       "      <th>Verbal interview duration | Instance 2</th>\n",
       "      <th>Verbal interview duration | Instance 3</th>\n",
       "    </tr>\n",
       "  </thead>\n",
       "  <tbody>\n",
       "    <tr>\n",
       "      <th>0</th>\n",
       "      <td>577</td>\n",
       "      <td>NaN</td>\n",
       "      <td>NaN</td>\n",
       "      <td>NaN</td>\n",
       "    </tr>\n",
       "    <tr>\n",
       "      <th>1</th>\n",
       "      <td>439</td>\n",
       "      <td>NaN</td>\n",
       "      <td>NaN</td>\n",
       "      <td>NaN</td>\n",
       "    </tr>\n",
       "    <tr>\n",
       "      <th>2</th>\n",
       "      <td>1547</td>\n",
       "      <td>NaN</td>\n",
       "      <td>NaN</td>\n",
       "      <td>NaN</td>\n",
       "    </tr>\n",
       "    <tr>\n",
       "      <th>3</th>\n",
       "      <td>349</td>\n",
       "      <td>NaN</td>\n",
       "      <td>NaN</td>\n",
       "      <td>NaN</td>\n",
       "    </tr>\n",
       "    <tr>\n",
       "      <th>4</th>\n",
       "      <td>508</td>\n",
       "      <td>NaN</td>\n",
       "      <td>NaN</td>\n",
       "      <td>NaN</td>\n",
       "    </tr>\n",
       "  </tbody>\n",
       "</table>\n",
       "</div>"
      ],
      "text/plain": [
       "   Verbal interview duration | Instance 0  \\\n",
       "0                                     577   \n",
       "1                                     439   \n",
       "2                                    1547   \n",
       "3                                     349   \n",
       "4                                     508   \n",
       "\n",
       "   Verbal interview duration | Instance 1  \\\n",
       "0                                     NaN   \n",
       "1                                     NaN   \n",
       "2                                     NaN   \n",
       "3                                     NaN   \n",
       "4                                     NaN   \n",
       "\n",
       "   Verbal interview duration | Instance 2  \\\n",
       "0                                     NaN   \n",
       "1                                     NaN   \n",
       "2                                     NaN   \n",
       "3                                     NaN   \n",
       "4                                     NaN   \n",
       "\n",
       "   Verbal interview duration | Instance 3  \n",
       "0                                     NaN  \n",
       "1                                     NaN  \n",
       "2                                     NaN  \n",
       "3                                     NaN  \n",
       "4                                     NaN  "
      ]
     },
     "execution_count": 15,
     "metadata": {},
     "output_type": "execute_result"
    }
   ],
   "source": [
    "participant_data_pd.drop(['Participant ID'], axis=1).head()"
   ]
  }
 ],
 "metadata": {
  "kernelspec": {
   "display_name": "Python 3 (ipykernel)",
   "language": "python",
   "name": "python3"
  },
  "language_info": {
   "codemirror_mode": {
    "name": "ipython",
    "version": 3
   },
   "file_extension": ".py",
   "mimetype": "text/x-python",
   "name": "python",
   "nbconvert_exporter": "python",
   "pygments_lexer": "ipython3",
   "version": "3.9.16"
  },
  "vscode": {
   "interpreter": {
    "hash": "be0617d24f23f3f0ff0f78cfff875dd0cc8ce9ddccca39efd47dcbfb80ba815b"
   }
  }
 },
 "nbformat": 4,
 "nbformat_minor": 4
}

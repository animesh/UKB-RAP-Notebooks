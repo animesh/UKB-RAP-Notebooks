{
 "cells": [
  {
   "cell_type": "markdown",
   "metadata": {},
   "source": [
    "# Explore participant data\n",
    "\n",
    "> This notebook explains how to explore phenotypic data table retrieve fields\n",
    "\n",
    "- runtime: 10min \n",
    "- recommended instance: mem1_ssd1_v2_x8\n",
    "- cost: <£0.10\n",
    "\n",
    "This notebook depends on:\n",
    "* **A Spark instance**\n",
    "\n",
    "In this notebook, we will dive deeper into the phenotypic data stored in the Spark database.\n",
    "We will retrieve the information about the fields, and learn how to get field id, title, and link to the UK Biobank Showcase, which provides more details and basic statistics about field."
   ]
  },
  {
   "cell_type": "markdown",
   "metadata": {},
   "source": [
    "## Import `dxdata` package and initialize Spark engine\n",
    "### Docs at: https://github.com/dnanexus/OpenBio/blob/master/dxdata/getting_started_with_dxdata.ipynb"
   ]
  },
  {
   "cell_type": "code",
   "execution_count": 1,
   "metadata": {
    "tags": []
   },
   "outputs": [],
   "source": [
    "import dxdata\n",
    "import os\n",
    "\n",
    "# Initialize dxdata engine\n",
    "engine = dxdata.connect(dialect=\"hive+pyspark\")"
   ]
  },
  {
   "cell_type": "markdown",
   "metadata": {},
   "source": [
    "## Connect to the dataset\n",
    "\n",
    "Next, we can set a `DATASET_ID` variable, which takes a value: `[projectID]:[dataset ID]`\n",
    "We use it to define the `dataset` with `dxdata.load_dataset` function.\n",
    "\n",
    "**projectID** and **dataset ID** values are unique to your project.\n",
    "Notebook example **101** explains how to get them."
   ]
  },
  {
   "cell_type": "code",
   "execution_count": 2,
   "metadata": {
    "tags": []
   },
   "outputs": [],
   "source": [
    "project = os.popen(\"dx env | grep project- | awk -F '\\t' '{print $2}'\").read().rstrip()\n",
    "record = os.popen(\"dx describe *dataset | grep  record- | awk -F ' ' '{print $2}'\").read().rstrip().split('\\n')[0]\n",
    "DATASET_ID = project + \":\" + record\n",
    "dataset = dxdata.load_dataset(id=DATASET_ID)"
   ]
  },
  {
   "cell_type": "markdown",
   "metadata": {},
   "source": [
    "## Retrieve data from the table\n",
    "\n",
    "The following code selects the `participant` table.\n",
    "Then we can define which field we are interested in using the `find_field` function.\n",
    "\n",
    "There are three main ways to identify the field of interest:\n",
    "\n",
    "- With `name` argument: here we give field ID. We can construct field ID used by the `dxdata` package from the field ID defined by UKB Showcase. The numeric showcase ID is translated to the Spark DB column name by adding the letter `p` at the beginning: e.g. *Standing height* showcase id is `50`, so Spark ID would be `p50`. Usually, fields have multiple instances. In such case, we add the `_i` suffix followed by instance number, e.g. *Standing height | Instance 0* will be `p50_i0`\n",
    "- With `title` argument: here we define the field by full title, followed by ` | Instance` suffix, e.g. `Age at recruitment` or `Standing height | Instance 0`\n",
    "- With `title_regex` argument: here we define the field by [regular expression](https://docs.python.org/3/howto/regex.html) matching the part of the title. We can use a keyword here, e.g. `.*height.*` will return all columns with the word *height* in the title."
   ]
  },
  {
   "cell_type": "code",
   "execution_count": 3,
   "metadata": {
    "tags": []
   },
   "outputs": [],
   "source": [
    "pheno = dataset['participant']\n",
    "\n",
    "# Find by field name\n",
    "field_eid = pheno.find_field(name=\"eid\")\n",
    "\n",
    "# Find by exact title\n",
    "field_sex = pheno.find_field(title=\"Sex\")\n",
    "field_age = pheno.find_field(title=\"Age at recruitment\")\n",
    "field_height = pheno.find_field(title=\"Standing height | Instance 0\")\n",
    "\n",
    "# Find by title pattern\n",
    "pattern = \".*height.*\"\n",
    "fields_height = list(pheno.find_fields(title_regex=pattern))"
   ]
  },
  {
   "cell_type": "markdown",
   "metadata": {},
   "source": [
    "\n",
    "## Explore the dataset\n",
    "\n",
    "In the last line of the previous step, we retrieved all the files with the word \"height\" in the title to the `fields_height` variable. Let's explore these fields now.\n",
    "\n",
    "Here we use a for loop to iterate through the fields in `fields_height`, printing the field ID, title, and link to the UKB showcase. In this way, we can find fields that will be useful for further analyses.\n"
   ]
  },
  {
   "cell_type": "code",
   "execution_count": 4,
   "metadata": {
    "tags": []
   },
   "outputs": [
    {
     "name": "stdout",
     "output_type": "stream",
     "text": [
      "[p50_i0]\tStanding height | Instance 0 (http://biobank.ctsu.ox.ac.uk/crystal/field.cgi?id=50)\n",
      "[p50_i1]\tStanding height | Instance 1 (http://biobank.ctsu.ox.ac.uk/crystal/field.cgi?id=50)\n",
      "[p50_i2]\tStanding height | Instance 2 (http://biobank.ctsu.ox.ac.uk/crystal/field.cgi?id=50)\n",
      "[p50_i3]\tStanding height | Instance 3 (http://biobank.ctsu.ox.ac.uk/crystal/field.cgi?id=50)\n",
      "[p51_i0]\tSeated height | Instance 0 (http://biobank.ctsu.ox.ac.uk/crystal/field.cgi?id=51)\n",
      "[p51_i1]\tSeated height | Instance 1 (http://biobank.ctsu.ox.ac.uk/crystal/field.cgi?id=51)\n",
      "[p51_i2]\tSeated height | Instance 2 (http://biobank.ctsu.ox.ac.uk/crystal/field.cgi?id=51)\n",
      "[p51_i3]\tSeated height | Instance 3 (http://biobank.ctsu.ox.ac.uk/crystal/field.cgi?id=51)\n",
      "[p1697_i0]\tComparative height size at age 10 | Instance 0 (http://biobank.ctsu.ox.ac.uk/crystal/field.cgi?id=1697)\n",
      "[p1697_i1]\tComparative height size at age 10 | Instance 1 (http://biobank.ctsu.ox.ac.uk/crystal/field.cgi?id=1697)\n",
      "[p1697_i2]\tComparative height size at age 10 | Instance 2 (http://biobank.ctsu.ox.ac.uk/crystal/field.cgi?id=1697)\n",
      "[p3077_i0]\tSeating box height | Instance 0 (http://biobank.ctsu.ox.ac.uk/crystal/field.cgi?id=3077)\n",
      "[p3077_i1]\tSeating box height | Instance 1 (http://biobank.ctsu.ox.ac.uk/crystal/field.cgi?id=3077)\n",
      "[p3077_i2]\tSeating box height | Instance 2 (http://biobank.ctsu.ox.ac.uk/crystal/field.cgi?id=3077)\n",
      "[p3077_i3]\tSeating box height | Instance 3 (http://biobank.ctsu.ox.ac.uk/crystal/field.cgi?id=3077)\n",
      "[p20015_i0]\tSitting height | Instance 0 (http://biobank.ctsu.ox.ac.uk/crystal/field.cgi?id=20015)\n",
      "[p20015_i1]\tSitting height | Instance 1 (http://biobank.ctsu.ox.ac.uk/crystal/field.cgi?id=20015)\n",
      "[p20015_i2]\tSitting height | Instance 2 (http://biobank.ctsu.ox.ac.uk/crystal/field.cgi?id=20015)\n",
      "[p20015_i3]\tSitting height | Instance 3 (http://biobank.ctsu.ox.ac.uk/crystal/field.cgi?id=20015)\n",
      "[p20047_i0]\tReason for skipping standing height | Instance 0 (http://biobank.ctsu.ox.ac.uk/crystal/field.cgi?id=20047)\n",
      "[p20048_i0]\tReason for skipping sitting height | Instance 0 (http://biobank.ctsu.ox.ac.uk/crystal/field.cgi?id=20048)\n",
      "[p23201_i2]\tL1-L4 average height | Instance 2 (http://biobank.ctsu.ox.ac.uk/crystal/field.cgi?id=23201)\n",
      "[p23201_i3]\tL1-L4 average height | Instance 3 (http://biobank.ctsu.ox.ac.uk/crystal/field.cgi?id=23201)\n",
      "[p26240]\tStandard PRS for height (HEIGHT) (http://biobank.ctsu.ox.ac.uk/crystal/field.cgi?id=26240)\n",
      "[p26241]\tEnhanced PRS for height (HEIGHT) (http://biobank.ctsu.ox.ac.uk/crystal/field.cgi?id=26241)\n"
     ]
    }
   ],
   "source": [
    "for _ in fields_height:\n",
    "    print(\"[\" + _.name + \"]\\t\" + _.title + \" (\" + _.linkout + \")\")\n",
    "    "
   ]
  },
  {
   "cell_type": "code",
   "execution_count": null,
   "metadata": {},
   "outputs": [],
   "source": []
  }
 ],
 "metadata": {
  "kernelspec": {
   "display_name": "Python 3 (ipykernel)",
   "language": "python",
   "name": "python3"
  },
  "language_info": {
   "codemirror_mode": {
    "name": "ipython",
    "version": 3
   },
   "file_extension": ".py",
   "mimetype": "text/x-python",
   "name": "python",
   "nbconvert_exporter": "python",
   "pygments_lexer": "ipython3",
   "version": "3.9.16"
  },
  "vscode": {
   "interpreter": {
    "hash": "be0617d24f23f3f0ff0f78cfff875dd0cc8ce9ddccca39efd47dcbfb80ba815b"
   }
  }
 },
 "nbformat": 4,
 "nbformat_minor": 4
}

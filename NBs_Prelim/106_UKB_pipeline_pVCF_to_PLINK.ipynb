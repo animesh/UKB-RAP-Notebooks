{
 "cells": [
  {
   "cell_type": "markdown",
   "id": "a8345c8b",
   "metadata": {},
   "source": [
    "# pVCF to PLINK 2.0\n",
    "\n",
    "> This notebook shows how to interact with genomic data in bed/bim/bam format using PLINK 2.0. We will learn how to convert between PLINK 1.x and PLINK 2.x file formats, merge variants from different chromosomes into a single file and filter them based on variant completeness and minor allelic frequencies (MAF). Please note the extended runtime of this notebook and that no subsequent analyses are contingent on its outputted files.\n",
    "\n",
    "- runtime: 4hrs\n",
    "- recommended instance: mem1_ssd1_v2_x16\n",
    "- estimated cost: <£1.50\n",
    "\n",
    "This notebook depends on:\n",
    "* **PLINK install**\n"
   ]
  },
  {
   "cell_type": "markdown",
   "id": "216f863d",
   "metadata": {},
   "source": [
    "## List the exome sequences data directories in your project\n",
    "\n",
    "Please note, that depending on your project's MTA the list of files might differ."
   ]
  },
  {
   "cell_type": "code",
   "execution_count": 1,
   "id": "96fc0500",
   "metadata": {
    "tags": []
   },
   "outputs": [
    {
     "name": "stdout",
     "output_type": "stream",
     "text": [
      "'Exome OQFE CRAM files'\n",
      "'Exome OQFE variant call files (VCFs)'\n",
      "'Population level exome OQFE variants, BGEN format - final release'\n",
      "'Population level exome OQFE variants, BGEN format - interim 450k release'\n",
      "'Population level exome OQFE variants, PLINK format - final release'\n",
      "'Population level exome OQFE variants, PLINK format - interim 450k release'\n",
      "'Population level exome OQFE variants, pVCF format - final release'\n",
      "'Population level exome OQFE variants, pVCF format - interim 450k release'\n"
     ]
    }
   ],
   "source": [
    "ls /mnt/project/Bulk/'Exome sequences'/"
   ]
  },
  {
   "cell_type": "markdown",
   "id": "fde96530",
   "metadata": {},
   "source": [
    "## List the population variant files in PLINK 1.x (bed/bim/fam) format"
   ]
  },
  {
   "cell_type": "code",
   "execution_count": 1,
   "id": "65199989",
   "metadata": {},
   "outputs": [
    {
     "name": "stdout",
     "output_type": "stream",
     "text": [
      "-r--r--r-- 1 root root 26G Oct 14 14:12 '/mnt/project/Bulk/Exome sequences/Population level exome OQFE variants, pVCF format - interim 450k release/ukb23148_c1_b1_v1.vcf.gz'\n"
     ]
    }
   ],
   "source": [
    "ls -lah /mnt/project/Bulk/'Exome sequences'/'Population level exome OQFE variants, pVCF format - final release'/*c1_b1_*gz"
   ]
  },
  {
   "cell_type": "markdown",
   "id": "2582fbbf-f584-4bae-bf6e-5f6ce7e1a82f",
   "metadata": {
    "tags": []
   },
   "source": [
    "### Install and test the PLINK2 binary\n",
    "#### We recommend installing plink using the links available here:\n",
    "https://www.cog-genomics.org/plink/2.0/\n",
    "\n",
    "#### You can download the binary (AVX2 Intel; for example, using `wget <URL>`), before unzipping (`unzip <zip file>`) then making it exectutable (`chmod a+x <name>`)\n",
    "\n",
    "#### if preferred, Plink is also available in the following locations:\n",
    "https://anaconda.org/bioconda/plink2; https://github.com/chrchang/plink-ng\n",
    "\n",
    "#### Once installed, continue with the below code chunks.\n"
   ]
  },
  {
   "cell_type": "code",
   "execution_count": 1,
   "id": "a6d673d0",
   "metadata": {
    "tags": []
   },
   "outputs": [
    {
     "name": "stdout",
     "output_type": "stream",
     "text": [
      "PLINK v2.00a6LM AVX2 Intel (3 Oct 2023)\n"
     ]
    }
   ],
   "source": [
    "#test plink works\n",
    "./plink2 --version"
   ]
  },
  {
   "cell_type": "markdown",
   "id": "173012c2-99bd-4461-ba68-488417809d6c",
   "metadata": {},
   "source": [
    "### Next install and test BCFTOOLS\n",
    "#### Following instructions here: http://samtools.github.io/bcftools/howtos/install.html, enter the following code (NB a large amount of text output will follow):"
   ]
  },
  {
   "cell_type": "code",
   "execution_count": null,
   "id": "3af313a0-f6c5-462c-b11d-8aaff14d19cf",
   "metadata": {
    "tags": []
   },
   "outputs": [],
   "source": [
    "git clone --recurse-submodules https://github.com/samtools/htslib.git\n",
    "git clone https://github.com/samtools/bcftools.git\n",
    "cd bcftools\n",
    "autoheader && autoconf && ./configure --disable-libgsl --enable-perl-filters\n",
    "make\n",
    "cd ..\n",
    "export BCFTOOLS_PLUGINS=$(pwd)/bcftools/plugins\n",
    "p=$(pwd)/bcftools\n",
    "PATH=$PATH:$p #set the path to the utility\n",
    "bcftools --version"
   ]
  },
  {
   "cell_type": "markdown",
   "id": "e4f7518a",
   "metadata": {},
   "source": [
    "## Get reference genome"
   ]
  },
  {
   "cell_type": "code",
   "execution_count": null,
   "id": "05752fb7",
   "metadata": {
    "tags": []
   },
   "outputs": [],
   "source": [
    "wget ftp://ftp.1000genomes.ebi.ac.uk/vol1/ftp/technical/reference/GRCh38_reference_genome/GRCh38_full_analysis_set_plus_decoy_hla.fa\n",
    "wget ftp://ftp.1000genomes.ebi.ac.uk/vol1/ftp/technical/reference/GRCh38_reference_genome/GRCh38_full_analysis_set_plus_decoy_hla.fa.fai"
   ]
  },
  {
   "cell_type": "code",
   "execution_count": 16,
   "id": "be2f57ec",
   "metadata": {},
   "outputs": [
    {
     "name": "stdout",
     "output_type": "stream",
     "text": [
      "[===========================================================>] Uploaded 3,263,683,042 of 3,263,683,042 bytes (100%) GRCh38_full_analysis_set_plus_decoy_hla.fa=============================>                              ] Uploaded 1,610,612,736 of 3,263,683,042 bytes (49%) GRCh38_full_analysis_set_plus_decoy_hla.fa===========>                                             ] Uploaded 805,306,368 of 3,263,683,042 bytes (25%) GRCh38_full_analysis_set_plus_decoy_hla.fa\n",
      "ID                    file-GKJPkb8J8Y94Q60z5zZ68FZX\n",
      "Class                 file\n",
      "Project               project-GJ4fY70J8Y9170Yj4GJP2778\n",
      "Folder                /ref_gen\n",
      "Name                  GRCh38_full_analysis_set_plus_decoy_hla.fa\n",
      "State                 \u001b[33mclosing\u001b[0m\n",
      "Visibility            visible\n",
      "Types                 -\n",
      "Properties            -\n",
      "Tags                  -\n",
      "Outgoing links        -\n",
      "Created               Thu Dec 15 10:54:13 2022\n",
      "Created by            evoclive\n",
      " via the job          job-GKJJq4jJ8Y98y2Jx6B6JFgxY\n",
      "Last modified         Thu Dec 15 10:54:23 2022\n",
      "Media type            \n",
      "archivalState         \"live\"\n",
      "cloudAccount          \"cloudaccount-dnanexus\"\n",
      "[===========================================================>] Uploaded 154,196 of 154,196 bytes (100%) GRCh38_full_analysis_set_plus_decoy_hla.fa.fai\n",
      "ID                    file-GKJPkj0J8Y9JVjF964FgFvpv\n",
      "Class                 file\n",
      "Project               project-GJ4fY70J8Y9170Yj4GJP2778\n",
      "Folder                /ref_gen\n",
      "Name                  GRCh38_full_analysis_set_plus_decoy_hla.fa.fai\n",
      "State                 \u001b[33mclosing\u001b[0m\n",
      "Visibility            visible\n",
      "Types                 -\n",
      "Properties            -\n",
      "Tags                  -\n",
      "Outgoing links        -\n",
      "Created               Thu Dec 15 10:54:24 2022\n",
      "Created by            evoclive\n",
      " via the job          job-GKJJq4jJ8Y98y2Jx6B6JFgxY\n",
      "Last modified         Thu Dec 15 10:54:25 2022\n",
      "Media type            \n",
      "archivalState         \"live\"\n",
      "cloudAccount          \"cloudaccount-dnanexus\"\n"
     ]
    }
   ],
   "source": [
    "#upload reference genome\n",
    "dx mkdir ref_gen\n",
    "dx upload GRCh38* --path ref_gen/"
   ]
  },
  {
   "cell_type": "code",
   "execution_count": 2,
   "id": "c320bd7e",
   "metadata": {
    "tags": []
   },
   "outputs": [
    {
     "name": "stdout",
     "output_type": "stream",
     "text": [
      "GRCh38_full_analysis_set_plus_decoy_hla.fa\n"
     ]
    }
   ],
   "source": [
    "REF=`ls *fa`\n",
    "echo $REF"
   ]
  },
  {
   "cell_type": "markdown",
   "id": "53159ca8",
   "metadata": {},
   "source": [
    "## Find pVCF path(s)"
   ]
  },
  {
   "cell_type": "code",
   "execution_count": 13,
   "id": "d5785e10",
   "metadata": {
    "tags": []
   },
   "outputs": [
    {
     "name": "stdout",
     "output_type": "stream",
     "text": [
      "\u001b[2K[===========================================================>] Completed 28,201,069,247 of 28,201,069,247 bytes (100%) /opt/notebooks/ukb23157_c1_b1_v1.vcf.gzz\n"
     ]
    }
   ],
   "source": [
    "dx find data --brief --name ukb23157_c1_b1_v1.vcf.gz | xargs dx download"
   ]
  },
  {
   "cell_type": "code",
   "execution_count": 6,
   "id": "c71fea3a",
   "metadata": {
    "tags": []
   },
   "outputs": [
    {
     "name": "stdout",
     "output_type": "stream",
     "text": [
      "ukb23157_c1_b1_v1.vcf.gz\n"
     ]
    }
   ],
   "source": [
    "VCF=`ls *vcf.gz`\n",
    "echo $VCF"
   ]
  },
  {
   "cell_type": "markdown",
   "id": "66f63027",
   "metadata": {},
   "source": [
    "## Run bcftools normalization\n",
    "This procedure left-aligns and normalizes indels, checks if REF alleles match the reference and split multiallelic sites into multiple rows. More info here: https://samtools.github.io/bcftools/bcftools.html#norm"
   ]
  },
  {
   "cell_type": "code",
   "execution_count": null,
   "id": "f3c59c53",
   "metadata": {
    "tags": []
   },
   "outputs": [],
   "source": [
    "time bcftools norm -f $REF -m -any -Oz -o ${VCF%.*.*}.norm.vcf.gz $VCF #takes three hours"
   ]
  },
  {
   "cell_type": "code",
   "execution_count": 16,
   "id": "8c6025a6",
   "metadata": {},
   "outputs": [
    {
     "name": "stdout",
     "output_type": "stream",
     "text": [
      "ukb23157_c1_b1_v1.norm.vcf.gz\n"
     ]
    }
   ],
   "source": [
    "VCF=`ls *norm.vcf.gz`\n",
    "echo $VCF"
   ]
  },
  {
   "cell_type": "markdown",
   "id": "120b8807",
   "metadata": {},
   "source": [
    "## Make a Plink bed file"
   ]
  },
  {
   "cell_type": "code",
   "execution_count": 17,
   "id": "598fedf6",
   "metadata": {},
   "outputs": [
    {
     "name": "stdout",
     "output_type": "stream",
     "text": [
      "PLINK v2.00a6LM AVX2 Intel (27 Sep 2023)       www.cog-genomics.org/plink/2.0/\n",
      "(C) 2005-2023 Shaun Purcell, Christopher Chang   GNU General Public License v3\n",
      "Logging to ukb23157_c1_b1_v1.norm.log.\n",
      "Options in effect:\n",
      "  --allow-extra-chr 0\n",
      "  --double-id\n",
      "  --make-bed\n",
      "  --out ukb23157_c1_b1_v1.norm\n",
      "  --vcf ukb23157_c1_b1_v1.norm.vcf.gz\n",
      "  --vcf-half-call m\n",
      "  --vcf-idspace-to _\n",
      "\n",
      "Start time: Fri Sep 29 13:50:38 2023\n",
      "140744 MiB RAM detected, ~133178 available; reserving 70372 MiB for main\n",
      "workspace.\n",
      "Using up to 72 threads (change this with --threads).\n",
      "--vcf: 27598 variants scanned.\n",
      "--vcf: ukb23157_c1_b1_v1.norm-temporary.pgen +\n",
      "ukb23157_c1_b1_v1.norm-temporary.pvar.zst +\n",
      "ukb23157_c1_b1_v1.norm-temporary.psam written.\n",
      "469835 samples (0 females, 0 males, 469835 ambiguous; 469835 founders) loaded\n",
      "from ukb23157_c1_b1_v1.norm-temporary.psam.\n",
      "27598 variants loaded from ukb23157_c1_b1_v1.norm-temporary.pvar.zst.\n",
      "Note: No phenotype data present.\n",
      "Writing ukb23157_c1_b1_v1.norm.fam ... done.\n",
      "Writing ukb23157_c1_b1_v1.norm.bim ... done.\n",
      "Writing ukb23157_c1_b1_v1.norm.bed ... done.\n",
      "End time: Fri Sep 29 13:57:46 2023\n"
     ]
    }
   ],
   "source": [
    "./plink2 \\\n",
    "    --vcf $VCF \\\n",
    "    --vcf-idspace-to _ \\\n",
    "    --double-id \\\n",
    "    --allow-extra-chr 0 \\\n",
    "    --make-bed \\\n",
    "    --vcf-half-call m \\\n",
    "    --out \"${VCF/.vcf.gz/\"\"}\""
   ]
  },
  {
   "cell_type": "markdown",
   "id": "e6f12713",
   "metadata": {},
   "source": [
    "## Convert the pVCF to PLINK 2.x formated dataset (pgen/pvar/psam)\n",
    "PLINK 2.x formated files are faster to work with and have significntly smaller size than PLINK 1.x formated files.\n",
    "However, PLINK 1.x is more popular format with wider support."
   ]
  },
  {
   "cell_type": "code",
   "execution_count": 18,
   "id": "72c51078",
   "metadata": {},
   "outputs": [
    {
     "name": "stdout",
     "output_type": "stream",
     "text": [
      "PLINK v2.00a6LM AVX2 Intel (27 Sep 2023)       www.cog-genomics.org/plink/2.0/\n",
      "(C) 2005-2023 Shaun Purcell, Christopher Chang   GNU General Public License v3\n",
      "Logging to ukb23157_c1_b1_v1.norm.log.\n",
      "Options in effect:\n",
      "  --make-pgen\n",
      "  --no-psam-pheno\n",
      "  --out ukb23157_c1_b1_v1.norm\n",
      "  --vcf ukb23157_c1_b1_v1.norm.vcf.gz\n",
      "  --vcf-half-call haploid\n",
      "\n",
      "Start time: Fri Sep 29 13:59:12 2023\n",
      "140744 MiB RAM detected, ~133202 available; reserving 70372 MiB for main\n",
      "workspace.\n",
      "Using up to 72 threads (change this with --threads).\n",
      "--vcf: 27598 variants scanned.\n",
      "--vcf: ukb23157_c1_b1_v1.norm-temporary.pgen +\n",
      "ukb23157_c1_b1_v1.norm-temporary.pvar.zst +\n",
      "ukb23157_c1_b1_v1.norm-temporary.psam written.\n",
      "469835 samples (0 females, 0 males, 469835 ambiguous; 469835 founders) loaded\n",
      "from ukb23157_c1_b1_v1.norm-temporary.psam.\n",
      "27598 variants loaded from ukb23157_c1_b1_v1.norm-temporary.pvar.zst.\n",
      "Note: No phenotype data present.\n",
      "Writing ukb23157_c1_b1_v1.norm.psam ... done.\n",
      "Writing ukb23157_c1_b1_v1.norm.pvar ... 10101111121213131414151516161717181819192020212122222323242425252626272728282929303031313232333334343535363637373838393940404141424243434444454546464747484849505051515252535354545555565657575858595960606161626263636464656566666767686869697070717172727373747475757676777778787979808081818282838384848585868687878888898990909191929293939494959596969797989899done.\n",
      "Writing ukb23157_c1_b1_v1.norm.pgen ... done.\n",
      "End time: Fri Sep 29 14:04:43 2023\n",
      "\n",
      "real\t5m33.924s\n",
      "user\t11m59.809s\n",
      "sys\t1m22.523s\n"
     ]
    }
   ],
   "source": [
    "time ./plink2 \\\n",
    "  --no-pheno \\\n",
    "  --vcf \"$VCF\" \\\n",
    "  --vcf-half-call 'haploid' \\\n",
    "  --make-pgen \\\n",
    "  --out \"${VCF/.vcf.gz/\"\"}\""
   ]
  },
  {
   "cell_type": "markdown",
   "id": "d892ca8b",
   "metadata": {},
   "source": [
    "## Convert to BED/BIM/FAM (PLINK 1.x format)\n",
    "\n",
    "`--max-alleles` - excludes variants with more than the indicated value. When a variant has exactly one ALT allele and it's a missing-code, these filters treat it as having only one allele.\n",
    "> see here: https://groups.google.com/g/plink2-users/c/rxMlVLIX-JA?pli=1 and https://github.com/meyer-lab-cshl/plinkQC/issues/10"
   ]
  },
  {
   "cell_type": "code",
   "execution_count": 19,
   "id": "959b6dac",
   "metadata": {},
   "outputs": [
    {
     "name": "stdout",
     "output_type": "stream",
     "text": [
      "PLINK v2.00a6LM AVX2 Intel (27 Sep 2023)       www.cog-genomics.org/plink/2.0/\n",
      "(C) 2005-2023 Shaun Purcell, Christopher Chang   GNU General Public License v3\n",
      "Logging to test_vcf_bed.log.\n",
      "Options in effect:\n",
      "  --make-bed\n",
      "  --max-alleles 2\n",
      "  --no-psam-pheno\n",
      "  --out test_vcf_bed\n",
      "  --vcf ukb23157_c1_b1_v1.norm.vcf.gz\n",
      "  --vcf-half-call haploid\n",
      "\n",
      "Start time: Fri Sep 29 14:10:03 2023\n",
      "140744 MiB RAM detected, ~133216 available; reserving 70372 MiB for main\n",
      "workspace.\n",
      "Using up to 72 threads (change this with --threads).\n",
      "--vcf: 27598 variants scanned.\n",
      "--vcf: test_vcf_bed-temporary.pgen + test_vcf_bed-temporary.pvar.zst +\n",
      "test_vcf_bed-temporary.psam written.\n",
      "469835 samples (0 females, 0 males, 469835 ambiguous; 469835 founders) loaded\n",
      "from test_vcf_bed-temporary.psam.\n",
      "27598 variants loaded from test_vcf_bed-temporary.pvar.zst.\n",
      "Note: No phenotype data present.\n",
      "27598 variants remaining after main filters.\n",
      "Writing test_vcf_bed.fam ... done.\n",
      "Writing test_vcf_bed.bim ... done.\n",
      "Writing test_vcf_bed.bed ... done.\n",
      "End time: Fri Sep 29 14:17:02 2023\n"
     ]
    }
   ],
   "source": [
    "./plink2 \\\n",
    "  --no-pheno \\\n",
    "  --vcf \"$VCF\" \\\n",
    "  --vcf-half-call 'haploid' \\\n",
    "  --max-alleles 2 \\\n",
    "  --make-bed \\\n",
    "  --out test_vcf_bed"
   ]
  },
  {
   "cell_type": "markdown",
   "id": "e8d5384e",
   "metadata": {},
   "source": [
    "## Validate the output files"
   ]
  },
  {
   "cell_type": "code",
   "execution_count": 20,
   "id": "594dcfd8",
   "metadata": {},
   "outputs": [
    {
     "name": "stdout",
     "output_type": "stream",
     "text": [
      "PLINK v2.00a6LM AVX2 Intel (27 Sep 2023)       www.cog-genomics.org/plink/2.0/\n",
      "(C) 2005-2023 Shaun Purcell, Christopher Chang   GNU General Public License v3\n",
      "Logging to plink2.log.\n",
      "Options in effect:\n",
      "  --pfile ukb23157_c1_b1_v1.norm\n",
      "  --validate\n",
      "\n",
      "Start time: Fri Sep 29 14:17:18 2023\n",
      "140744 MiB RAM detected, ~133169 available; reserving 70372 MiB for main\n",
      "workspace.\n",
      "Using up to 72 threads (change this with --threads).\n",
      "469835 samples (0 females, 0 males, 469835 ambiguous; 469835 founders) loaded\n",
      "from ukb23157_c1_b1_v1.norm.psam.\n",
      "27598 variants loaded from ukb23157_c1_b1_v1.norm.pvar.\n",
      "Validating ukb23157_c1_b1_v1.norm.pgen... done.\n",
      "End time: Fri Sep 29 14:17:18 2023\n"
     ]
    }
   ],
   "source": [
    "./plink2 \\\n",
    "  --pfile \"${VCF/.vcf.gz/\"\"}\" \\\n",
    "  --validate"
   ]
  },
  {
   "cell_type": "code",
   "execution_count": 21,
   "id": "fd93d622",
   "metadata": {},
   "outputs": [
    {
     "name": "stdout",
     "output_type": "stream",
     "text": [
      "PLINK v2.00a6LM AVX2 Intel (27 Sep 2023)       www.cog-genomics.org/plink/2.0/\n",
      "(C) 2005-2023 Shaun Purcell, Christopher Chang   GNU General Public License v3\n",
      "Logging to plink2.log.\n",
      "Options in effect:\n",
      "  --bfile test_vcf_bed\n",
      "  --validate\n",
      "\n",
      "Start time: Fri Sep 29 14:17:23 2023\n",
      "140744 MiB RAM detected, ~133172 available; reserving 70372 MiB for main\n",
      "workspace.\n",
      "Using up to 72 threads (change this with --threads).\n",
      "469835 samples (0 females, 0 males, 469835 ambiguous; 469835 founders) loaded\n",
      "from test_vcf_bed.fam.\n",
      "27598 variants loaded from test_vcf_bed.bim.\n",
      "Validating test_vcf_bed.bed... done.\n",
      "End time: Fri Sep 29 14:17:23 2023\n"
     ]
    }
   ],
   "source": [
    "./plink2 \\\n",
    "  --bfile test_vcf_bed \\\n",
    "  --validate"
   ]
  },
  {
   "cell_type": "code",
   "execution_count": null,
   "id": "455bca26",
   "metadata": {},
   "outputs": [],
   "source": [
    "#upload file in case required\n",
    "system(\"dx upload ukb23157_c1_b1_v1.norm.vcf.gz --path bed_maf/\")"
   ]
  }
 ],
 "metadata": {
  "kernelspec": {
   "display_name": "Bash",
   "language": "bash",
   "name": "bash"
  },
  "language_info": {
   "codemirror_mode": "shell",
   "file_extension": ".sh",
   "mimetype": "text/x-sh",
   "name": "bash"
  }
 },
 "nbformat": 4,
 "nbformat_minor": 5
}

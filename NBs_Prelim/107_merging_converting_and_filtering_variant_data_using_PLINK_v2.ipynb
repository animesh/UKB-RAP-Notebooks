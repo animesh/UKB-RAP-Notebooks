{
 "cells": [
  {
   "cell_type": "markdown",
   "id": "05842035",
   "metadata": {},
   "source": [
    "# Merging, converting and filtering variant data using PLINK 2.0\n",
    "\n",
    "> This notebook shows how to interact with genomic data in bed/bim/bam format using PLINK 2.0. We will learn how to convert between PLINK 1.x and PLINK 2.x file formats, merge variants from different chromosomes into a single file and filter them based on variant completeness and minor allelic frequencies (MAF). While runtime is approximately 12 hours it can be significantly scaled down (see subsequent notes).\n",
    "\n",
    "- runtime: 12 hours\n",
    "- recommended instance: mem1_ssd1_v2_x16\n",
    "- estimated cost: ca. £5.00\n",
    "\n",
    "This notebook depends on:\n",
    "* **PLINK install**\n",
    "\n",
    "This process filters and then merges all the chromosomes into one file. More filters, prior to merging will likely speed this process."
   ]
  },
  {
   "cell_type": "markdown",
   "id": "3f7d9d92",
   "metadata": {},
   "source": [
    "## List the exome sequences data directories in your project\n",
    "\n",
    "Please note, that depending on your project's MTA the list of files might differ."
   ]
  },
  {
   "cell_type": "code",
   "execution_count": 1,
   "id": "2c4281b3",
   "metadata": {
    "tags": []
   },
   "outputs": [
    {
     "name": "stdout",
     "output_type": "stream",
     "text": [
      "'Exome OQFE CRAM files'\n",
      "'Exome OQFE variant call files (VCFs)'\n",
      "'Population level exome OQFE variants, BGEN format - final release'\n",
      "'Population level exome OQFE variants, BGEN format - interim 450k release'\n",
      "'Population level exome OQFE variants, PLINK format - final release'\n",
      "'Population level exome OQFE variants, PLINK format - interim 450k release'\n",
      "'Population level exome OQFE variants, pVCF format - final release'\n",
      "'Population level exome OQFE variants, pVCF format - interim 450k release'\n"
     ]
    }
   ],
   "source": [
    "ls /mnt/project/Bulk/'Exome sequences'/"
   ]
  },
  {
   "cell_type": "markdown",
   "id": "e6f53904",
   "metadata": {},
   "source": [
    "## List the population variant files in PLINK 1.x (bed/bim/fam) format"
   ]
  },
  {
   "cell_type": "code",
   "execution_count": 2,
   "id": "b3f681fb",
   "metadata": {
    "tags": []
   },
   "outputs": [
    {
     "name": "stdout",
     "output_type": "stream",
     "text": [
      "helper_files            ukb23158_c18_b0_v1.bed  ukb23158_c4_b0_v1.bim\n",
      "ukb23158_c10_b0_v1.bed  ukb23158_c18_b0_v1.bim  ukb23158_c4_b0_v1.fam\n",
      "ukb23158_c10_b0_v1.bim  ukb23158_c18_b0_v1.fam  ukb23158_c5_b0_v1.bed\n",
      "ukb23158_c10_b0_v1.fam  ukb23158_c19_b0_v1.bed  ukb23158_c5_b0_v1.bim\n",
      "ukb23158_c11_b0_v1.bed  ukb23158_c19_b0_v1.bim  ukb23158_c5_b0_v1.fam\n",
      "ukb23158_c11_b0_v1.bim  ukb23158_c19_b0_v1.fam  ukb23158_c6_b0_v1.bed\n",
      "ukb23158_c11_b0_v1.fam  ukb23158_c1_b0_v1.bed   ukb23158_c6_b0_v1.bim\n",
      "ukb23158_c12_b0_v1.bed  ukb23158_c1_b0_v1.bim   ukb23158_c6_b0_v1.fam\n",
      "ukb23158_c12_b0_v1.bim  ukb23158_c1_b0_v1.fam   ukb23158_c7_b0_v1.bed\n",
      "ukb23158_c12_b0_v1.fam  ukb23158_c20_b0_v1.bed  ukb23158_c7_b0_v1.bim\n",
      "ukb23158_c13_b0_v1.bed  ukb23158_c20_b0_v1.bim  ukb23158_c7_b0_v1.fam\n",
      "ukb23158_c13_b0_v1.bim  ukb23158_c20_b0_v1.fam  ukb23158_c8_b0_v1.bed\n",
      "ukb23158_c13_b0_v1.fam  ukb23158_c21_b0_v1.bed  ukb23158_c8_b0_v1.bim\n",
      "ukb23158_c14_b0_v1.bed  ukb23158_c21_b0_v1.bim  ukb23158_c8_b0_v1.fam\n",
      "ukb23158_c14_b0_v1.bim  ukb23158_c21_b0_v1.fam  ukb23158_c9_b0_v1.bed\n",
      "ukb23158_c14_b0_v1.fam  ukb23158_c22_b0_v1.bed  ukb23158_c9_b0_v1.bim\n",
      "ukb23158_c15_b0_v1.bed  ukb23158_c22_b0_v1.bim  ukb23158_c9_b0_v1.fam\n",
      "ukb23158_c15_b0_v1.bim  ukb23158_c22_b0_v1.fam  ukb23158_cX_b0_v1.bed\n",
      "ukb23158_c15_b0_v1.fam  ukb23158_c2_b0_v1.bed   ukb23158_cX_b0_v1.bim\n",
      "ukb23158_c16_b0_v1.bed  ukb23158_c2_b0_v1.bim   ukb23158_cX_b0_v1.fam\n",
      "ukb23158_c16_b0_v1.bim  ukb23158_c2_b0_v1.fam   ukb23158_cY_b0_v1.bed\n",
      "ukb23158_c16_b0_v1.fam  ukb23158_c3_b0_v1.bed   ukb23158_cY_b0_v1.bim\n",
      "ukb23158_c17_b0_v1.bed  ukb23158_c3_b0_v1.bim   ukb23158_cY_b0_v1.fam\n",
      "ukb23158_c17_b0_v1.bim  ukb23158_c3_b0_v1.fam\n",
      "ukb23158_c17_b0_v1.fam  ukb23158_c4_b0_v1.bed\n"
     ]
    }
   ],
   "source": [
    "ls /mnt/project/Bulk/'Exome sequences'/'Population level exome OQFE variants, PLINK format - final release'/"
   ]
  },
  {
   "cell_type": "markdown",
   "id": "02828842",
   "metadata": {},
   "source": [
    "### Install and test the PLINK2 binary\n",
    "#### We recommend installing plink using the links available here:\n",
    "https://www.cog-genomics.org/plink/2.0/\n",
    "\n",
    "#### You can download the binary (i.e. AVX2 Intel; for example, using `wget <URL>`), before unzipping (`unzip <zip file>`) then making it exectutable (`chmod a+x <name>`)\n",
    "\n",
    "#### if preferred, Plink is also available in the following locations:\n",
    "https://anaconda.org/bioconda/plink2; https://github.com/chrchang/plink-ng\n",
    "\n",
    "#### Once installed, continue with the below code chunks."
   ]
  },
  {
   "cell_type": "code",
   "execution_count": 2,
   "id": "3bab6a9f",
   "metadata": {},
   "outputs": [
    {
     "name": "stdout",
     "output_type": "stream",
     "text": [
      "PLINK v2.00a6LM AVX2 Intel (27 Sep 2023)\n"
     ]
    }
   ],
   "source": [
    "#test plink works\n",
    "./plink2 --version"
   ]
  },
  {
   "cell_type": "markdown",
   "id": "1512a917",
   "metadata": {},
   "source": [
    "## Prepare the list of files to that will be filtered\n",
    "#### **NB for this demo we use the first 8 chromosomes**\n",
    "#### **this will take a few hours to generate the output files**\n",
    "#### **subsequent notebooks could instead be run on fewer inputs - e.g., chromosomes 20-22 (i.e. the three smallest chromosomes)**\n",
    "#### **However, a couple of downstream notebook analyses may not show significant results:**\n",
    "#### **this may not be essential if you are simply aiming to observe how the codes work and therefore may wish to use chrs 20-22**\n"
   ]
  },
  {
   "cell_type": "markdown",
   "id": "10e2897e-77c2-4b97-942b-8f11d6c682fc",
   "metadata": {},
   "source": []
  },
  {
   "cell_type": "code",
   "execution_count": null,
   "id": "60ce4864",
   "metadata": {},
   "outputs": [],
   "source": [
    "rm -f list_beds.txt\n",
    "for chr in {1..8}; do # **OPTIONAL CHANGE TO** {20..22} \n",
    "    echo \"ukb23158_c${chr}_b0_v1\" >> list_beds.txt; \n",
    "done"
   ]
  },
  {
   "cell_type": "markdown",
   "id": "443381b3",
   "metadata": {},
   "source": [
    "The list is a white-space delimited file listing a bed, bim and fam files in each column:\n"
   ]
  },
  {
   "cell_type": "markdown",
   "id": "ca3d528a",
   "metadata": {},
   "source": [
    "## Apply filters to each file in the list and export as PLINK 1.x dataset (bed/bim/fam)\n",
    "\n",
    "List of filters:\n",
    "\n",
    "- `--maf` filters out all variants with allele frequency below 0.01, different thresholds can be  provided by modifying a numeric value after this parameter\n",
    "- `--mac` impose a filter on lower allele count, only variants with at least 100 cases will be included\n",
    "- `--geno` filters out all variants with missing call rates exceeding the provided value - setting this value to 0 removes all incomplete variants\n",
    "- `--hwe` filters out all variants which have Hardy-Weinberg equilibrium exact test p-value below the provided threshold\n",
    "- `--mind` filter out samples with missing calls above treshold of 10%\n",
    "- `--no-psam-pheno` ignore all phenotype data in the sample information file and allows .fam files with no phenotype column to be loaded (such as withdrawn participants) "
   ]
  },
  {
   "cell_type": "code",
   "execution_count": 4,
   "id": "6a2c46e3",
   "metadata": {},
   "outputs": [
    {
     "name": "stdout",
     "output_type": "stream",
     "text": [
      "PLINK v2.00a6LM AVX2 Intel (27 Sep 2023)       www.cog-genomics.org/plink/2.0/\n",
      "(C) 2005-2023 Shaun Purcell, Christopher Chang   GNU General Public License v3\n",
      "Logging to ukb23158_c21_b0_v1_filt.log.\n",
      "Options in effect:\n",
      "  --bfile /mnt/project/Bulk/Exome sequences/Population level exome OQFE variants, PLINK format - final release/ukb23158_c21_b0_v1\n",
      "  --geno 0\n",
      "  --hwe 1e-15\n",
      "  --mac 100\n",
      "  --maf 0.01\n",
      "  --make-bed\n",
      "  --mind 0.1\n",
      "  --no-id-header\n",
      "  --no-psam-pheno\n",
      "  --out ukb23158_c21_b0_v1_filt\n",
      "  --write-samples\n",
      "  --write-snplist\n",
      "\n",
      "Start time: Mon Oct  2 12:06:20 2023\n",
      "140744 MiB RAM detected, ~133393 available; reserving 70372 MiB for main\n",
      "workspace.\n",
      "Using up to 72 threads (change this with --threads).\n",
      "469835 samples (254626 females, 215163 males, 46 ambiguous; 469835 founders)\n",
      "loaded from /mnt/project/Bulk/Exome sequences/Population level exome OQFE\n",
      "variants, PLINK format - final release/ukb23158_c21_b0_v1.fam.\n",
      "289748 variants loaded from /mnt/project/Bulk/Exome sequences/Population level\n",
      "exome OQFE variants, PLINK format - final release/ukb23158_c21_b0_v1.bim.\n",
      "Note: No phenotype data present.\n",
      "Calculating sample missingness rates... 22456790done.\n",
      "0 samples removed due to missing genotype data (--mind).\n",
      "469835 samples (254626 females, 215163 males, 46 ambiguous; 469835 founders)\n",
      "remaining after main filters.\n",
      "--write-samples: Sample IDs written to ukb23158_c21_b0_v1_filt.id .\n",
      "Calculating allele frequencies... 22456790done.\n",
      "--geno: 224676 variants removed due to missing genotype data.\n",
      "--hwe: 207 variants removed due to Hardy-Weinberg exact test (founders only).\n",
      "64744 variants removed due to allele frequency threshold(s)\n",
      "(--maf/--max-maf/--mac/--max-mac).\n",
      "121 variants remaining after main filters.\n",
      "--write-snplist: Variant IDs written to ukb23158_c21_b0_v1_filt.snplist .\n",
      "Writing ukb23158_c21_b0_v1_filt.fam ... done.\n",
      "Writing ukb23158_c21_b0_v1_filt.bim ... done.\n",
      "Writing ukb23158_c21_b0_v1_filt.bed ... 19233747617088done.\n",
      "End time: Mon Oct  2 12:09:09 2023\n",
      "PLINK v2.00a6LM AVX2 Intel (27 Sep 2023)       www.cog-genomics.org/plink/2.0/\n",
      "(C) 2005-2023 Shaun Purcell, Christopher Chang   GNU General Public License v3\n",
      "Logging to ukb23158_c22_b0_v1_filt.log.\n",
      "Options in effect:\n",
      "  --bfile /mnt/project/Bulk/Exome sequences/Population level exome OQFE variants, PLINK format - final release/ukb23158_c22_b0_v1\n",
      "  --geno 0\n",
      "  --hwe 1e-15\n",
      "  --mac 100\n",
      "  --maf 0.01\n",
      "  --make-bed\n",
      "  --mind 0.1\n",
      "  --no-id-header\n",
      "  --no-psam-pheno\n",
      "  --out ukb23158_c22_b0_v1_filt\n",
      "  --write-samples\n",
      "  --write-snplist\n",
      "\n",
      "Start time: Mon Oct  2 12:09:09 2023\n",
      "140744 MiB RAM detected, ~131653 available; reserving 70372 MiB for main\n",
      "workspace.\n",
      "Using up to 72 threads (change this with --threads).\n",
      "469835 samples (254626 females, 215163 males, 46 ambiguous; 469835 founders)\n",
      "loaded from /mnt/project/Bulk/Exome sequences/Population level exome OQFE\n",
      "variants, PLINK format - final release/ukb23158_c22_b0_v1.fam.\n",
      "613853 variants loaded from /mnt/project/Bulk/Exome sequences/Population level\n",
      "exome OQFE variants, PLINK format - final release/ukb23158_c22_b0_v1.bim.\n",
      "Note: No phenotype data present.\n",
      "Calculating sample missingness rates... 102132425364748596done.\n",
      "0 samples removed due to missing genotype data (--mind).\n",
      "469835 samples (254626 females, 215163 males, 46 ambiguous; 469835 founders)\n",
      "remaining after main filters.\n",
      "--write-samples: Sample IDs written to ukb23158_c22_b0_v1_filt.id .\n",
      "Calculating allele frequencies... 102132425364748596done.\n",
      "--geno: 452850 variants removed due to missing genotype data.\n",
      "--hwe: 493 variants removed due to Hardy-Weinberg exact test (founders only).\n",
      "160283 variants removed due to allele frequency threshold(s)\n",
      "(--maf/--max-maf/--mac/--max-mac).\n",
      "227 variants remaining after main filters.\n",
      "--write-snplist: Variant IDs written to ukb23158_c22_b0_v1_filt.snplist .\n",
      "Writing ukb23158_c22_b0_v1_filt.fam ... done.\n",
      "Writing ukb23158_c22_b0_v1_filt.bim ... done.\n",
      "Writing ukb23158_c22_b0_v1_filt.bed ... 1113222833404651626267707380838896done.\n",
      "End time: Mon Oct  2 12:15:45 2023\n"
     ]
    }
   ],
   "source": [
    "for x in $(cat list_beds.txt);do \\\n",
    "./plink2 \\\n",
    "  --bfile /mnt/project/Bulk/'Exome sequences'/'Population level exome OQFE variants, PLINK format - final release'/$x \\\n",
    "  --maf 0.01 --mac 100 --geno 0 --hwe 1e-15 \\\n",
    "  --no-psam-pheno \\\n",
    "  --mind 0.1 \\\n",
    "  --write-snplist --write-samples --no-id-header \\\n",
    "  --make-bed \\\n",
    "  --out ${x}_filt; done"
   ]
  },
  {
   "cell_type": "markdown",
   "id": "b9b36285",
   "metadata": {},
   "source": [
    "## Make a suitably formatted list (\"filtered_list2.txt\") of all the filtered files"
   ]
  },
  {
   "cell_type": "code",
   "execution_count": 5,
   "id": "36ea572a",
   "metadata": {},
   "outputs": [],
   "source": [
    "ls *filt.bed | sed 's/.bed//g' > filtered_list.txt\n",
    "awk '{print $1\".bed\", $1\".bim\", $1\".fam\"}' filtered_list.txt > filtered_list2.txt"
   ]
  },
  {
   "cell_type": "markdown",
   "id": "33e8af81",
   "metadata": {},
   "source": [
    "## Merge genomic files to a single PLINK 1.x \n",
    "\n",
    "Change `--make-bed` to `--make-pgen` to produce PLINK 2.x formated files (pgen/pvar/psam) they are faster to work with and have significntly smaller size"
   ]
  },
  {
   "cell_type": "code",
   "execution_count": 6,
   "id": "64f9cb40",
   "metadata": {},
   "outputs": [
    {
     "name": "stdout",
     "output_type": "stream",
     "text": [
      "PLINK v2.00a6LM AVX2 Intel (27 Sep 2023)       www.cog-genomics.org/plink/2.0/\n",
      "(C) 2005-2023 Shaun Purcell, Christopher Chang   GNU General Public License v3\n",
      "Logging to maf_flt_8chroms.log.\n",
      "Options in effect:\n",
      "  --make-bed\n",
      "  --no-psam-pheno\n",
      "  --out maf_flt_8chroms\n",
      "  --pmerge-list filtered_list2.txt\n",
      "\n",
      "Start time: Mon Oct  2 12:21:34 2023\n",
      "140744 MiB RAM detected, ~133249 available; reserving 70372 MiB for main\n",
      "workspace.\n",
      "Using up to 72 threads (change this with --threads).\n",
      "--pmerge-list: 2 filesets specified.\n",
      "--pmerge-list: 469835 samples present.\n",
      "--pmerge-list: Merged .psam written to maf_flt_8chroms.psam .\n",
      "--pmerge-list: 2 .pvar files scanned.\n",
      "Concatenation job detected.\n",
      "Concatenating... 348/348 variants complete.\n",
      "Results written to maf_flt_8chroms.pgen + maf_flt_8chroms.pvar .\n",
      "469835 samples (254626 females, 215163 males, 46 ambiguous; 469835 founders)\n",
      "loaded from maf_flt_8chroms.psam.\n",
      "348 variants loaded from maf_flt_8chroms.pvar.\n",
      "Note: No phenotype data present.\n",
      "Writing maf_flt_8chroms.fam ... done.\n",
      "Writing maf_flt_8chroms.bim ... done.\n",
      "Writing maf_flt_8chroms.bed ... done.\n",
      "End time: Mon Oct  2 12:21:35 2023\n"
     ]
    }
   ],
   "source": [
    "./plink2 \\\n",
    "  --no-pheno \\\n",
    "  --pmerge-list filtered_list2.txt \\\n",
    "  --make-bed \\\n",
    "  --out maf_flt_8chroms"
   ]
  },
  {
   "cell_type": "markdown",
   "id": "ffdedc52",
   "metadata": {},
   "source": [
    "## Validate the output dataset"
   ]
  },
  {
   "cell_type": "code",
   "execution_count": 7,
   "id": "613d9a2c",
   "metadata": {},
   "outputs": [
    {
     "name": "stdout",
     "output_type": "stream",
     "text": [
      "PLINK v2.00a6LM AVX2 Intel (27 Sep 2023)       www.cog-genomics.org/plink/2.0/\n",
      "(C) 2005-2023 Shaun Purcell, Christopher Chang   GNU General Public License v3\n",
      "Logging to plink2.log.\n",
      "Options in effect:\n",
      "  --pfile maf_flt_8chroms\n",
      "  --validate\n",
      "\n",
      "Start time: Mon Oct  2 12:21:41 2023\n",
      "140744 MiB RAM detected, ~133256 available; reserving 70372 MiB for main\n",
      "workspace.\n",
      "Using up to 72 threads (change this with --threads).\n",
      "469835 samples (254626 females, 215163 males, 46 ambiguous; 469835 founders)\n",
      "loaded from maf_flt_8chroms.psam.\n",
      "348 variants loaded from maf_flt_8chroms.pvar.\n",
      "Validating maf_flt_8chroms.pgen... done.\n",
      "End time: Mon Oct  2 12:21:41 2023\n"
     ]
    }
   ],
   "source": [
    "./plink2 \\\n",
    "  --pfile maf_flt_8chroms \\\n",
    "  --validate"
   ]
  },
  {
   "cell_type": "markdown",
   "id": "508d780b",
   "metadata": {},
   "source": [
    "## Upload the completed dataset to your project\n",
    "\n",
    "We will use this dataset in other notebooks"
   ]
  },
  {
   "cell_type": "code",
   "execution_count": 19,
   "id": "fb17bea7",
   "metadata": {},
   "outputs": [
    {
     "name": "stdout",
     "output_type": "stream",
     "text": [
      "Error while creating /bed_maf in project-GJ4fY70J8Y9170Yj4GJP2778\n",
      "  Cannot create folder: already exists, code 422. Request Time=1670926898.800401, Request ID=1670926899000-245756\n",
      "[===========================================================>] Uploaded 437,361,586 of 437,361,586 bytes (100%) maf_flt_8chroms.bed\n",
      "ID                    file-GKG54GjJ8Y99fp164vv47k53\n",
      "Class                 file\n",
      "Project               project-GJ4fY70J8Y9170Yj4GJP2778\n",
      "Folder                /bed_maf\n",
      "Name                  maf_flt_8chroms.bed\n",
      "State                 \u001b[33mclosing\u001b[0m\n",
      "Visibility            visible\n",
      "Types                 -\n",
      "Properties            -\n",
      "Tags                  -\n",
      "Outgoing links        -\n",
      "Created               Tue Dec 13 10:21:39 2022\n",
      "Created by            evoclive\n",
      " via the job          job-GKG3VP8J8Y98GVB457XFf3Kj\n",
      "Last modified         Tue Dec 13 10:21:42 2022\n",
      "Media type            \n",
      "archivalState         \"live\"\n",
      "cloudAccount          \"cloudaccount-dnanexus\"\n",
      "[===========================================================>] Uploaded 126,158 of 126,158 bytes (100%) maf_flt_8chroms.bim\n",
      "ID                    file-GKG54JjJ8Y98FfyX4xBXPy2q\n",
      "Class                 file\n",
      "Project               project-GJ4fY70J8Y9170Yj4GJP2778\n",
      "Folder                /bed_maf\n",
      "Name                  maf_flt_8chroms.bim\n",
      "State                 \u001b[33mclosing\u001b[0m\n",
      "Visibility            visible\n",
      "Types                 -\n",
      "Properties            -\n",
      "Tags                  -\n",
      "Outgoing links        -\n",
      "Created               Tue Dec 13 10:21:43 2022\n",
      "Created by            evoclive\n",
      " via the job          job-GKG3VP8J8Y98GVB457XFf3Kj\n",
      "Last modified         Tue Dec 13 10:21:45 2022\n",
      "Media type            \n",
      "archivalState         \"live\"\n",
      "cloudAccount          \"cloudaccount-dnanexus\"\n",
      "[===========================================================>] Uploaded 11,368,370 of 11,368,370 bytes (100%) maf_flt_8chroms.fam\n",
      "ID                    file-GKG54KQJ8Y9JQ90y4q4z9pzb\n",
      "Class                 file\n",
      "Project               project-GJ4fY70J8Y9170Yj4GJP2778\n",
      "Folder                /bed_maf\n",
      "Name                  maf_flt_8chroms.fam\n",
      "State                 \u001b[33mclosing\u001b[0m\n",
      "Visibility            visible\n",
      "Types                 -\n",
      "Properties            -\n",
      "Tags                  -\n",
      "Outgoing links        -\n",
      "Created               Tue Dec 13 10:21:46 2022\n",
      "Created by            evoclive\n",
      " via the job          job-GKG3VP8J8Y98GVB457XFf3Kj\n",
      "Last modified         Tue Dec 13 10:21:47 2022\n",
      "Media type            \n",
      "archivalState         \"live\"\n",
      "cloudAccount          \"cloudaccount-dnanexus\"\n",
      "[===========================================================>] Uploaded 1,069 of 1,069 bytes (100%) maf_flt_8chroms.log\n",
      "ID                    file-GKG54P0J8Y9K1qb84xJ5GKyF\n",
      "Class                 file\n",
      "Project               project-GJ4fY70J8Y9170Yj4GJP2778\n",
      "Folder                /bed_maf\n",
      "Name                  maf_flt_8chroms.log\n",
      "State                 \u001b[33mclosing\u001b[0m\n",
      "Visibility            visible\n",
      "Types                 -\n",
      "Properties            -\n",
      "Tags                  -\n",
      "Outgoing links        -\n",
      "Created               Tue Dec 13 10:21:48 2022\n",
      "Created by            evoclive\n",
      " via the job          job-GKG3VP8J8Y98GVB457XFf3Kj\n",
      "Last modified         Tue Dec 13 10:21:50 2022\n",
      "Media type            \n",
      "archivalState         \"live\"\n",
      "cloudAccount          \"cloudaccount-dnanexus\"\n",
      "[===========================================================>] Uploaded 165,403,091 of 165,403,091 bytes (100%) maf_flt_8chroms.pgen\n",
      "ID                    file-GKG54PjJ8Y93g4fF4q3B8y2j\n",
      "Class                 file\n",
      "Project               project-GJ4fY70J8Y9170Yj4GJP2778\n",
      "Folder                /bed_maf\n",
      "Name                  maf_flt_8chroms.pgen\n",
      "State                 \u001b[33mclosing\u001b[0m\n",
      "Visibility            visible\n",
      "Types                 -\n",
      "Properties            -\n",
      "Tags                  -\n",
      "Outgoing links        -\n",
      "Created               Tue Dec 13 10:21:51 2022\n",
      "Created by            evoclive\n",
      " via the job          job-GKG3VP8J8Y98GVB457XFf3Kj\n",
      "Last modified         Tue Dec 13 10:21:53 2022\n",
      "Media type            \n",
      "archivalState         \"live\"\n",
      "cloudAccount          \"cloudaccount-dnanexus\"\n",
      "[===========================================================>] Uploaded 8,185,155 of 8,185,155 bytes (100%) maf_flt_8chroms.psam\n",
      "ID                    file-GKG54QQJ8Y93JZgp4qX1Zz65\n",
      "Class                 file\n",
      "Project               project-GJ4fY70J8Y9170Yj4GJP2778\n",
      "Folder                /bed_maf\n",
      "Name                  maf_flt_8chroms.psam\n",
      "State                 \u001b[33mclosing\u001b[0m\n",
      "Visibility            visible\n",
      "Types                 -\n",
      "Properties            -\n",
      "Tags                  -\n",
      "Outgoing links        -\n",
      "Created               Tue Dec 13 10:21:54 2022\n",
      "Created by            evoclive\n",
      " via the job          job-GKG3VP8J8Y98GVB457XFf3Kj\n",
      "Last modified         Tue Dec 13 10:21:56 2022\n",
      "Media type            \n",
      "archivalState         \"live\"\n",
      "cloudAccount          \"cloudaccount-dnanexus\"\n",
      "[===========================================================>] Uploaded 118,486 of 118,486 bytes (100%) maf_flt_8chroms.pvar\n",
      "ID                    file-GKG54V0J8Y97Xgy94yqpKpX9\n",
      "Class                 file\n",
      "Project               project-GJ4fY70J8Y9170Yj4GJP2778\n",
      "Folder                /bed_maf\n",
      "Name                  maf_flt_8chroms.pvar\n",
      "State                 \u001b[33mclosing\u001b[0m\n",
      "Visibility            visible\n",
      "Types                 -\n",
      "Properties            -\n",
      "Tags                  -\n",
      "Outgoing links        -\n",
      "Created               Tue Dec 13 10:21:56 2022\n",
      "Created by            evoclive\n",
      " via the job          job-GKG3VP8J8Y98GVB457XFf3Kj\n",
      "Last modified         Tue Dec 13 10:21:58 2022\n",
      "Media type            \n",
      "archivalState         \"live\"\n",
      "cloudAccount          \"cloudaccount-dnanexus\"\n"
     ]
    }
   ],
   "source": [
    "dx mkdir bed_maf\n",
    "dx upload maf_flt_8chroms* --path bed_maf/"
   ]
  },
  {
   "cell_type": "code",
   "execution_count": null,
   "id": "d2f10489",
   "metadata": {},
   "outputs": [],
   "source": []
  }
 ],
 "metadata": {
  "kernelspec": {
   "display_name": "Bash",
   "language": "bash",
   "name": "bash"
  },
  "language_info": {
   "codemirror_mode": "shell",
   "file_extension": ".sh",
   "mimetype": "text/x-sh",
   "name": "bash"
  }
 },
 "nbformat": 4,
 "nbformat_minor": 5
}

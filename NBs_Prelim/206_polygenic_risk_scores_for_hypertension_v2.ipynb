{
 "cells": [
  {
   "cell_type": "markdown",
   "id": "319414c0",
   "metadata": {},
   "source": [
    "# Polygenic risk scores for hypertension data\n",
    "\n",
    "> Polygenic risk scores are important tools for understanding complex genetic associations. In this notebook, we show how to derive polygenic scores based on summary statistics and a matrix of correlation between genetic variants. We will use R package bigsnpr that implements the LDpred2 method (https://doi.org/10.1093/bioinformatics/btaa1029).\n",
    "\n",
    "> As input, we will use the hypertension example data used before for GWAS example. This notebook focus on a logistic regression model using simulated participant data.\n",
    "\n",
    "- runtime: <30m\n",
    "- recommended instance: mem1_ssd1_v2_x16\n",
    "- estimated cost: <£0.50\n",
    "\n",
    "This notebook depends on:\n",
    "* **Notebook 201** - pheno_data_hypertension.csv\n",
    "* **Notebook 107** - maf_flt_8chroms* prefixed files"
   ]
  },
  {
   "cell_type": "markdown",
   "id": "30bacd7c",
   "metadata": {},
   "source": [
    "## Install required packages\n",
    "\n",
    "Function `p_load` from `pacman` loads packages into R.\n",
    "If a given package missing it will be automatically installed - this can take a considerable amount of time for packages that need C or FORTRAN code compilation.\n",
    "\n",
    "The following packages are needed to run this notebook:\n",
    "\n",
    "- `reticulate` - R-Python interface, required to use `dxdata` package that connects to Spark database and allows retrieval of phenotypic data\n",
    "- `dplyr` - tabular data manipulation in R, require to pre-process and filtering of phenotypic data\n",
    "- `parallel` - parallel computation in R\n",
    "- `bigsnpr` - run statistics on file-backed arrays, needed to calculate the approximate singular value decomposition (SVD) needed for PCA plots\n",
    "- `bigparallelr` - controls parallel computation using file-backed arrays\n",
    "- `ggplot2` - needed for graphics \n",
    "- `readr` - read and write tabular file formats: csv, tsv, tdf, etc.v, tdf, etc.\n",
    "- `skimr` - provide summary statistics about variables in data frames, data tables and vectors\n"
   ]
  },
  {
   "cell_type": "code",
   "execution_count": null,
   "id": "39a8c8aa",
   "metadata": {
    "tags": [],
    "vscode": {
     "languageId": "r"
    }
   },
   "outputs": [],
   "source": [
    "if(!require(pacman)) install.packages(\"pacman\")\n",
    "pacman::p_load(dplyr, parallel, bigsnpr, ggplot2, readr, tidyr, bigparallelr, skimr)"
   ]
  },
  {
   "cell_type": "markdown",
   "id": "d054ca4a",
   "metadata": {},
   "source": [
    "## Download and read phenotypes\n",
    "\n",
    "In this example, we will use the data table created in **Notebook 201** and *.bed files from **107**"
   ]
  },
  {
   "cell_type": "code",
   "execution_count": 2,
   "id": "4e1239d6",
   "metadata": {
    "vscode": {
     "languageId": "r"
    }
   },
   "outputs": [
    {
     "data": {
      "text/html": [],
      "text/latex": [],
      "text/markdown": [],
      "text/plain": [
       "character(0)"
      ]
     },
     "metadata": {},
     "output_type": "display_data"
    }
   ],
   "source": [
    "system('dx download -r pheno/pheno_data_hypertension.csv', intern=TRUE)"
   ]
  },
  {
   "cell_type": "code",
   "execution_count": 17,
   "id": "89e87ad5",
   "metadata": {
    "tags": [],
    "vscode": {
     "languageId": "r"
    }
   },
   "outputs": [
    {
     "data": {
      "text/html": [
       "<table class=\"dataframe\">\n",
       "<caption>A tibble: 4 × 7</caption>\n",
       "<thead>\n",
       "\t<tr><th scope=col>systolic_a0</th><th scope=col>systolic_a1</th><th scope=col>diastolic_a0</th><th scope=col>diastolic_a1</th><th scope=col>self_reported</th><th scope=col>medical_records</th><th scope=col>blood_pressure_cutoff</th></tr>\n",
       "\t<tr><th scope=col>&lt;dbl&gt;</th><th scope=col>&lt;dbl&gt;</th><th scope=col>&lt;dbl&gt;</th><th scope=col>&lt;dbl&gt;</th><th scope=col>&lt;lgl&gt;</th><th scope=col>&lt;lgl&gt;</th><th scope=col>&lt;lgl&gt;</th></tr>\n",
       "</thead>\n",
       "<tbody>\n",
       "\t<tr><td>113</td><td>103</td><td>190</td><td>178</td><td>FALSE</td><td> TRUE</td><td> TRUE</td></tr>\n",
       "\t<tr><td> 76</td><td> 75</td><td>121</td><td>117</td><td>FALSE</td><td>FALSE</td><td>FALSE</td></tr>\n",
       "\t<tr><td> NA</td><td> NA</td><td> NA</td><td> NA</td><td>FALSE</td><td>FALSE</td><td>   NA</td></tr>\n",
       "\t<tr><td>107</td><td>102</td><td>185</td><td>162</td><td>FALSE</td><td>FALSE</td><td> TRUE</td></tr>\n",
       "</tbody>\n",
       "</table>\n"
      ],
      "text/latex": [
       "A tibble: 4 × 7\n",
       "\\begin{tabular}{lllllll}\n",
       " systolic\\_a0 & systolic\\_a1 & diastolic\\_a0 & diastolic\\_a1 & self\\_reported & medical\\_records & blood\\_pressure\\_cutoff\\\\\n",
       " <dbl> & <dbl> & <dbl> & <dbl> & <lgl> & <lgl> & <lgl>\\\\\n",
       "\\hline\n",
       "\t 113 & 103 & 190 & 178 & FALSE &  TRUE &  TRUE\\\\\n",
       "\t  76 &  75 & 121 & 117 & FALSE & FALSE & FALSE\\\\\n",
       "\t  NA &  NA &  NA &  NA & FALSE & FALSE &    NA\\\\\n",
       "\t 107 & 102 & 185 & 162 & FALSE & FALSE &  TRUE\\\\\n",
       "\\end{tabular}\n"
      ],
      "text/markdown": [
       "\n",
       "A tibble: 4 × 7\n",
       "\n",
       "| systolic_a0 &lt;dbl&gt; | systolic_a1 &lt;dbl&gt; | diastolic_a0 &lt;dbl&gt; | diastolic_a1 &lt;dbl&gt; | self_reported &lt;lgl&gt; | medical_records &lt;lgl&gt; | blood_pressure_cutoff &lt;lgl&gt; |\n",
       "|---|---|---|---|---|---|---|\n",
       "| 113 | 103 | 190 | 178 | FALSE |  TRUE |  TRUE |\n",
       "|  76 |  75 | 121 | 117 | FALSE | FALSE | FALSE |\n",
       "|  NA |  NA |  NA |  NA | FALSE | FALSE |    NA |\n",
       "| 107 | 102 | 185 | 162 | FALSE | FALSE |  TRUE |\n",
       "\n"
      ],
      "text/plain": [
       "  systolic_a0 systolic_a1 diastolic_a0 diastolic_a1 self_reported\n",
       "1 113         103         190          178          FALSE        \n",
       "2  76          75         121          117          FALSE        \n",
       "3  NA          NA          NA           NA          FALSE        \n",
       "4 107         102         185          162          FALSE        \n",
       "  medical_records blood_pressure_cutoff\n",
       "1  TRUE            TRUE                \n",
       "2 FALSE           FALSE                \n",
       "3 FALSE              NA                \n",
       "4 FALSE            TRUE                "
      ]
     },
     "metadata": {},
     "output_type": "display_data"
    }
   ],
   "source": [
    "pheno0 <- read_csv('pheno_data_hypertension.csv', show_col_types = FALSE)\n",
    "pheno0[1:4,2:8]"
   ]
  },
  {
   "cell_type": "markdown",
   "id": "d4956d38",
   "metadata": {},
   "source": [
    "## Read the EIDs of individuals in the exome cohort from `.fam` file"
   ]
  },
  {
   "cell_type": "code",
   "execution_count": 5,
   "id": "19f7074f",
   "metadata": {
    "vscode": {
     "languageId": "r"
    }
   },
   "outputs": [
    {
     "data": {
      "text/html": [],
      "text/latex": [],
      "text/markdown": [],
      "text/plain": [
       "character(0)"
      ]
     },
     "metadata": {},
     "output_type": "display_data"
    }
   ],
   "source": [
    "system('dx download -r bed_maf/maf_flt_8chroms*', intern=TRUE) #download .fam and associated files"
   ]
  },
  {
   "cell_type": "code",
   "execution_count": null,
   "id": "7414a036",
   "metadata": {
    "tags": [],
    "vscode": {
     "languageId": "r"
    }
   },
   "outputs": [],
   "source": [
    "exome_eids <- read_tsv('maf_flt_8chroms.fam', col_names = LETTERS[1:6], show_col_types = FALSE) %>% pull(B)"
   ]
  },
  {
   "cell_type": "markdown",
   "id": "f64c45bd",
   "metadata": {},
   "source": [
    "## Limit the phenotypes to the participants in the cohort "
   ]
  },
  {
   "cell_type": "code",
   "execution_count": 22,
   "id": "d0c91d1e",
   "metadata": {
    "tags": [],
    "vscode": {
     "languageId": "r"
    }
   },
   "outputs": [],
   "source": [
    "pheno <- pheno0 %>% \n",
    "    filter(eid %in% exome_eids) %>%\n",
    "    drop_na"
   ]
  },
  {
   "cell_type": "markdown",
   "id": "78081275",
   "metadata": {},
   "source": [
    "## Filter phenotype records to hypertension positive ones and adds a 10k machine control sample of unaffected individuals"
   ]
  },
  {
   "cell_type": "code",
   "execution_count": 24,
   "id": "84d83170",
   "metadata": {
    "tags": [],
    "vscode": {
     "languageId": "r"
    }
   },
   "outputs": [
    {
     "data": {
      "text/html": [
       "<table class=\"dataframe\">\n",
       "<caption>A tibble: 4 × 7</caption>\n",
       "<thead>\n",
       "\t<tr><th scope=col>systolic_a0</th><th scope=col>systolic_a1</th><th scope=col>diastolic_a0</th><th scope=col>diastolic_a1</th><th scope=col>self_reported</th><th scope=col>medical_records</th><th scope=col>blood_pressure_cutoff</th></tr>\n",
       "\t<tr><th scope=col>&lt;dbl&gt;</th><th scope=col>&lt;dbl&gt;</th><th scope=col>&lt;dbl&gt;</th><th scope=col>&lt;dbl&gt;</th><th scope=col>&lt;lgl&gt;</th><th scope=col>&lt;lgl&gt;</th><th scope=col>&lt;lgl&gt;</th></tr>\n",
       "</thead>\n",
       "<tbody>\n",
       "\t<tr><td> 91</td><td>115</td><td>182</td><td>186</td><td>TRUE</td><td>TRUE</td><td>TRUE</td></tr>\n",
       "\t<tr><td>104</td><td> 91</td><td>158</td><td>149</td><td>TRUE</td><td>TRUE</td><td>TRUE</td></tr>\n",
       "\t<tr><td> 94</td><td> 93</td><td>185</td><td>164</td><td>TRUE</td><td>TRUE</td><td>TRUE</td></tr>\n",
       "\t<tr><td> 90</td><td> 87</td><td>147</td><td>142</td><td>TRUE</td><td>TRUE</td><td>TRUE</td></tr>\n",
       "</tbody>\n",
       "</table>\n"
      ],
      "text/latex": [
       "A tibble: 4 × 7\n",
       "\\begin{tabular}{lllllll}\n",
       " systolic\\_a0 & systolic\\_a1 & diastolic\\_a0 & diastolic\\_a1 & self\\_reported & medical\\_records & blood\\_pressure\\_cutoff\\\\\n",
       " <dbl> & <dbl> & <dbl> & <dbl> & <lgl> & <lgl> & <lgl>\\\\\n",
       "\\hline\n",
       "\t  91 & 115 & 182 & 186 & TRUE & TRUE & TRUE\\\\\n",
       "\t 104 &  91 & 158 & 149 & TRUE & TRUE & TRUE\\\\\n",
       "\t  94 &  93 & 185 & 164 & TRUE & TRUE & TRUE\\\\\n",
       "\t  90 &  87 & 147 & 142 & TRUE & TRUE & TRUE\\\\\n",
       "\\end{tabular}\n"
      ],
      "text/markdown": [
       "\n",
       "A tibble: 4 × 7\n",
       "\n",
       "| systolic_a0 &lt;dbl&gt; | systolic_a1 &lt;dbl&gt; | diastolic_a0 &lt;dbl&gt; | diastolic_a1 &lt;dbl&gt; | self_reported &lt;lgl&gt; | medical_records &lt;lgl&gt; | blood_pressure_cutoff &lt;lgl&gt; |\n",
       "|---|---|---|---|---|---|---|\n",
       "|  91 | 115 | 182 | 186 | TRUE | TRUE | TRUE |\n",
       "| 104 |  91 | 158 | 149 | TRUE | TRUE | TRUE |\n",
       "|  94 |  93 | 185 | 164 | TRUE | TRUE | TRUE |\n",
       "|  90 |  87 | 147 | 142 | TRUE | TRUE | TRUE |\n",
       "\n"
      ],
      "text/plain": [
       "  systolic_a0 systolic_a1 diastolic_a0 diastolic_a1 self_reported\n",
       "1  91         115         182          186          TRUE         \n",
       "2 104          91         158          149          TRUE         \n",
       "3  94          93         185          164          TRUE         \n",
       "4  90          87         147          142          TRUE         \n",
       "  medical_records blood_pressure_cutoff\n",
       "1 TRUE            TRUE                 \n",
       "2 TRUE            TRUE                 \n",
       "3 TRUE            TRUE                 \n",
       "4 TRUE            TRUE                 "
      ]
     },
     "metadata": {},
     "output_type": "display_data"
    }
   ],
   "source": [
    "smpl <- rbind(\n",
    "    pheno %>% \n",
    "        filter(medical_records & self_reported & blood_pressure_cutoff),\n",
    "    pheno %>%\n",
    "        filter(!medical_records & !self_reported & !blood_pressure_cutoff) %>%\n",
    "          sample_n(10000)\n",
    ")\n",
    "head(smpl[1:4,2:8])"
   ]
  },
  {
   "cell_type": "markdown",
   "id": "09854650",
   "metadata": {},
   "source": [
    "## Read in the genotypes of individuals selected above from fam files"
   ]
  },
  {
   "cell_type": "code",
   "execution_count": 25,
   "id": "19b77dfc",
   "metadata": {
    "tags": [],
    "vscode": {
     "languageId": "r"
    }
   },
   "outputs": [
    {
     "data": {
      "text/html": [
       "'/opt/notebooks/bigsnpr_hypertension_smpl.rds'"
      ],
      "text/latex": [
       "'/opt/notebooks/bigsnpr\\_hypertension\\_smpl.rds'"
      ],
      "text/markdown": [
       "'/opt/notebooks/bigsnpr_hypertension_smpl.rds'"
      ],
      "text/plain": [
       "[1] \"/opt/notebooks/bigsnpr_hypertension_smpl.rds\""
      ]
     },
     "metadata": {},
     "output_type": "display_data"
    }
   ],
   "source": [
    "bedfile <- normalizePath(\"maf_flt_8chroms.bed\")\n",
    "tmpfile <- normalizePath(\"bigsnpr_hypertension_smpl\", mustWork = FALSE)\n",
    "if( length(dir(pattern=tmpfile)) ) unlink(dir(pattern=tmpfile))\n",
    "snp_readBed2(bedfile, backingfile = tmpfile, ind.row=which(exome_eids %in% smpl$eid))"
   ]
  },
  {
   "cell_type": "markdown",
   "id": "83a2b08b",
   "metadata": {},
   "source": [
    "## Preview genotypes"
   ]
  },
  {
   "cell_type": "code",
   "execution_count": 26,
   "id": "760d5faa",
   "metadata": {
    "tags": [],
    "vscode": {
     "languageId": "r"
    }
   },
   "outputs": [
    {
     "name": "stdout",
     "output_type": "stream",
     "text": [
      "List of 3\n",
      " $ genotypes:Reference class 'FBM.code256' [package \"bigstatsr\"] with 16 fields\n",
      "  ..and 26 methods, of which 12 are  possibly relevant:\n",
      "  ..  add_columns, as.FBM, bm, bm.desc, check_dimensions,\n",
      "  ..  check_write_permissions, copy#envRefClass, initialize, initialize#FBM,\n",
      "  ..  save, show#envRefClass, show#FBM\n",
      " $ fam      :'data.frame':\t36589 obs. of  6 variables:\n",
      "  ..$ family.ID  : int [1:36589] 1000284 1000292 1000332 1000497 1000552 10007..\n",
      "  ..$ sample.ID  : int [1:36589] 1000284 1000292 1000332 1000497 1000552 10007..\n",
      "  ..$ paternal.ID: int [1:36589] 0 0 0 0 0 0 0 0 0 0 ...\n",
      "  ..$ maternal.ID: int [1:36589] 0 0 0 0 0 0 0 0 0 0 ...\n",
      "  ..$ sex        : int [1:36589] 2 1 2 1 1 2 2 2 1 1 ...\n",
      "  ..$ affection  : int [1:36589] -9 -9 -9 -9 -9 -9 -9 -9 -9 -9 ...\n",
      " $ map      :'data.frame':\t3767 obs. of  6 variables:\n",
      "  ..$ chromosome  : int [1:3767] 1 1 1 1 1 1 1 1 1 1 ...\n",
      "  ..$ marker.ID   : chr [1:3767] \"1:942951:C:T\" \"1:944102:G:C\" \"1:957091:G:A\"\"..\n",
      "  ..$ genetic.dist: int [1:3767] 0 0 0 0 0 0 0 0 0 0 ...\n",
      "  ..$ physical.pos: int [1:3767] 942951 944102 957091 979496 1034393 1043382 1..\n",
      "  ..$ allele1     : chr [1:3767] \"T\" \"C\" \"A\" \"C\" ...\n",
      "  ..$ allele2     : chr [1:3767] \"C\" \"G\" \"G\" \"T\" ...\n",
      " - attr(*, \"class\")= chr \"bigSNP\"\n"
     ]
    }
   ],
   "source": [
    "genotypes_smpl <- snp_attach(paste0(tmpfile, \".rds\"))\n",
    "str(genotypes_smpl, max.level = 2, strict.width = \"cut\")"
   ]
  },
  {
   "cell_type": "markdown",
   "id": "282d680b",
   "metadata": {},
   "source": [
    "## Calculate singular value decomposition (SVD) and visualise it as a PCA plot"
   ]
  },
  {
   "cell_type": "code",
   "execution_count": 27,
   "id": "c0c6646f",
   "metadata": {
    "tags": [],
    "vscode": {
     "languageId": "r"
    }
   },
   "outputs": [
    {
     "name": "stderr",
     "output_type": "stream",
     "text": [
      "INFO: Using 8 cores\n",
      "\n"
     ]
    }
   ],
   "source": [
    "options(bigstatsr.check.parallel.blas = FALSE)\n",
    "NCORES = round(nb_cores()/2)\n",
    "assert_cores(NCORES)\n",
    "message('INFO: Using ', NCORES, ' cores')\n",
    "\n",
    "G   <- genotypes_smpl$genotypes\n",
    "CHR <- genotypes_smpl$map$chromosome\n",
    "POS <- genotypes_smpl$map$physical.pos\n",
    "ind.excl <- snp_indLRLDR(infos.chr = as.integer(as.factor(CHR)), infos.pos = POS)\n",
    "ind.keep <- snp_clumping(G, infos.chr = as.integer(as.factor(CHR)),exclude = ind.excl,ncores = NCORES)\n",
    "obj.svd <- big_randomSVD(G, fun.scaling = snp_scaleBinom(), ind.col = ind.keep, ncores = NCORES)"
   ]
  },
  {
   "cell_type": "markdown",
   "id": "f587c88a",
   "metadata": {},
   "source": [
    "## Prepare a PCA table"
   ]
  },
  {
   "cell_type": "code",
   "execution_count": null,
   "id": "322f50ef",
   "metadata": {
    "tags": [],
    "vscode": {
     "languageId": "r"
    }
   },
   "outputs": [],
   "source": [
    "pca <- cbind(genotypes_smpl$fam$sample.ID, obj.svd$u)\n",
    "colnames(pca) <- c('eid', paste0('PC', 1:10))\n",
    "\n",
    "pca <- pca %>% as_tibble %>% left_join(smpl, by = 'eid')\n",
    "pca %>% skim %>% .[c(1:8, 11, 14)]"
   ]
  },
  {
   "cell_type": "markdown",
   "id": "d9e53dc8",
   "metadata": {},
   "source": [
    "## Polygenic risk scores"
   ]
  },
  {
   "cell_type": "markdown",
   "id": "1826e37d",
   "metadata": {},
   "source": [
    "### Divide the dataset into train set and test set\n",
    "\n",
    "We divide the data into train and test sets in an 80:20 ratio:\n",
    "- 15450 individuals are used to train the model \n",
    "- 3863 individuals are used to test the model"
   ]
  },
  {
   "cell_type": "code",
   "execution_count": 11,
   "id": "d9ef3ea3",
   "metadata": {
    "tags": [],
    "vscode": {
     "languageId": "r"
    }
   },
   "outputs": [
    {
     "data": {
      "text/html": [
       "29271"
      ],
      "text/latex": [
       "29271"
      ],
      "text/markdown": [
       "29271"
      ],
      "text/plain": [
       "[1] 29271"
      ]
     },
     "metadata": {},
     "output_type": "display_data"
    },
    {
     "data": {
      "text/html": [
       "7318"
      ],
      "text/latex": [
       "7318"
      ],
      "text/markdown": [
       "7318"
      ],
      "text/plain": [
       "[1] 7318"
      ]
     },
     "metadata": {},
     "output_type": "display_data"
    }
   ],
   "source": [
    "ind.train <- sample(nrow(G), nrow(G)*0.8)\n",
    "ind.test <- setdiff(rows_along(G), ind.train)\n",
    "\n",
    "length(ind.train)\n",
    "length(ind.test)"
   ]
  },
  {
   "cell_type": "markdown",
   "id": "df8889df",
   "metadata": {},
   "source": [
    "### Fit the logistic regression model\n",
    "\n",
    "We fit the lasso penalized regression model for a Filebacked Big Matrix. \n",
    "We use the first 10 principal components calculated from the variant matrix as covariates."
   ]
  },
  {
   "cell_type": "code",
   "execution_count": 12,
   "id": "8f0bc7c7",
   "metadata": {
    "tags": [],
    "vscode": {
     "languageId": "r"
    }
   },
   "outputs": [],
   "source": [
    "cmsa.logit <- big_spLogReg(\n",
    "    X = G, \n",
    "    y01.train = as.numeric(pca$medical_records & pca$self_reported & pca$blood_pressure_cutoff)[ind.train], \n",
    "    ind.train = ind.train, \n",
    "    covar.train = obj.svd$u[ind.train, ],\n",
    "    alphas = c(1, 0.5, 0.05, 0.001),\n",
    "    ncores = NCORES)"
   ]
  },
  {
   "cell_type": "markdown",
   "id": "2601b485",
   "metadata": {},
   "source": [
    "## Calculate the area under the ROC curve"
   ]
  },
  {
   "cell_type": "markdown",
   "id": "276ce2a4",
   "metadata": {},
   "source": [
    "First, we predict the classes for our test dataset."
   ]
  },
  {
   "cell_type": "code",
   "execution_count": 13,
   "id": "dc96344c",
   "metadata": {
    "tags": [],
    "vscode": {
     "languageId": "r"
    }
   },
   "outputs": [],
   "source": [
    "preds <- predict(\n",
    "    cmsa.logit, \n",
    "    X = G, \n",
    "    ind.row = ind.test, \n",
    "    covar.row = obj.svd$u[ind.test, ])"
   ]
  },
  {
   "cell_type": "markdown",
   "id": "4ea6a23e",
   "metadata": {},
   "source": [
    "Then we calculate the area under the receiver operating characteristic (ROC) curve.\n",
    "The area under the ROC curve (AUC) is a good metric for classifier model performance. \n",
    "The perfect model would have an AUC of 1, while a random model would produce an AUC of 0.5.\n",
    "In our case, the ~0.52 indicate a poor model performance. This is expected, since we used a very small subset of both individuals and variants in this example."
   ]
  },
  {
   "cell_type": "code",
   "execution_count": 14,
   "id": "a230e382",
   "metadata": {
    "tags": [],
    "vscode": {
     "languageId": "r"
    }
   },
   "outputs": [
    {
     "data": {
      "text/html": [
       "0.522217614735877"
      ],
      "text/latex": [
       "0.522217614735877"
      ],
      "text/markdown": [
       "0.522217614735877"
      ],
      "text/plain": [
       "[1] 0.5222176"
      ]
     },
     "metadata": {},
     "output_type": "display_data"
    }
   ],
   "source": [
    "AUC(preds, as.numeric(pca$medical_records & pca$self_reported & pca$blood_pressure_cutoff)[ind.test])"
   ]
  }
 ],
 "metadata": {
  "kernelspec": {
   "display_name": "R",
   "language": "R",
   "name": "ir"
  },
  "language_info": {
   "codemirror_mode": "r",
   "file_extension": ".r",
   "mimetype": "text/x-r-source",
   "name": "R",
   "pygments_lexer": "r",
   "version": "4.2.2"
  }
 },
 "nbformat": 4,
 "nbformat_minor": 5
}

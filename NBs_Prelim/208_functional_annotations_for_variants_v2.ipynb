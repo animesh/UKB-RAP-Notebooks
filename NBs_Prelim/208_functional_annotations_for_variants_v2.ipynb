{
 "cells": [
  {
   "cell_type": "markdown",
   "metadata": {},
   "source": [
    "# Functional annotations for variants\n",
    "\n",
    "This notebook show how to use the genome annotations and gene models to translate the variant genomic coordinates into functional annotations.\n",
    "\n",
    "\n",
    "- runtime: 30m\n",
    "- recommended instance: mem1_ssd1_v2_x16\n",
    "- estimated cost: <£0.70\n",
    "\n",
    "This notebook depends on:\n",
    "* **Bioconductor install**\n",
    "* **Notebook 203** - height_signif_snp.csv"
   ]
  },
  {
   "cell_type": "markdown",
   "metadata": {},
   "source": [
    "## Install required R packages\n",
    "\n",
    "Function `p_load` from `pacman` loads packages into R.\n",
    "If a given package missing it will be automatically installed - this can take a considerable amount of time for packages that need C or FORTRAN code compilation.\n",
    "\n",
    "The following packages are needed to run this notebook:\n",
    "\n",
    "- `dplyr` - tabular data manipulation in R, require to pre-process and filtering of phenotypic data\n",
    "- `readr` - read and write tabular file formats: CSV, TsSV, TDF, etc.\n",
    "- `skimr` - provide summary statistics about variables in data frames, `tibble` structures, data tables and vectors\n",
    "- `gprofiler2` - A tool set for functional enrichment analysis and visualization of genes and variants\n",
    "- `VariantAnnotation` - Bioconductor package for variant annotations \n",
    "- `TxDb.Hsapiens.UCSC.hg38.knownGene` - gene position for hg38 human genome release\n",
    "- `BSgenome.Hsapiens.UCSC.hg38` - the DNA sequence of hg38 human genome release\n",
    "\n"
   ]
  },
  {
   "cell_type": "code",
   "execution_count": null,
   "metadata": {
    "tags": [],
    "vscode": {
     "languageId": "r"
    }
   },
   "outputs": [],
   "source": [
    "if(!require(pacman)) install.packages(\"pacman\")\n",
    "pacman::p_load(dplyr, skimr, readr, gprofiler2)"
   ]
  },
  {
   "cell_type": "code",
   "execution_count": null,
   "metadata": {
    "tags": [],
    "vscode": {
     "languageId": "r"
    }
   },
   "outputs": [],
   "source": [
    "# Install BioConductor contingent on R version\n",
    "if(as.double(R.version$minor) < 3.0) {version <- '3.16'} else {version <- '3.17'}\n",
    "\n",
    "if(!require(GenomicRanges)) BiocManager::install(\"GenomicRanges\", version=version, ask=FALSE)\n",
    "if(!require(VariantAnnotation)) BiocManager::install(\"VariantAnnotation\", version=version, ask=FALSE)\n",
    "if(!require(TxDb.Hsapiens.UCSC.hg38.knownGene)) BiocManager::install(\"TxDb.Hsapiens.UCSC.hg38.knownGene\", version=version, ask=FALSE)\n",
    "if(!require(BSgenome.Hsapiens.UCSC.hg38)) BiocManager::install(\"BSgenome.Hsapiens.UCSC.hg38\", version=version, ask=FALSE)"
   ]
  },
  {
   "cell_type": "code",
   "execution_count": 3,
   "metadata": {
    "tags": [],
    "vscode": {
     "languageId": "r"
    }
   },
   "outputs": [],
   "source": [
    "pacman::p_load(TxDb.Hsapiens.UCSC.hg38.knownGene, BSgenome.Hsapiens.UCSC.hg38, VariantAnnotation, GenomicRanges)"
   ]
  },
  {
   "cell_type": "markdown",
   "metadata": {},
   "source": [
    "## Load output of GWAS"
   ]
  },
  {
   "cell_type": "markdown",
   "metadata": {},
   "source": [
    "In the first step, we get a list of variants. In the following example, we use the list of significant variants from GWAS on participant height example from **Notebook 203**."
   ]
  },
  {
   "cell_type": "code",
   "execution_count": 4,
   "metadata": {
    "tags": [],
    "vscode": {
     "languageId": "r"
    }
   },
   "outputs": [
    {
     "data": {
      "text/html": [
       "<table class=\"dataframe\">\n",
       "<caption>A tibble: 3 × 11</caption>\n",
       "<thead>\n",
       "\t<tr><th scope=col>chromosome</th><th scope=col>marker.ID</th><th scope=col>genetic.dist</th><th scope=col>physical.pos</th><th scope=col>allele1</th><th scope=col>allele2</th><th scope=col>estim</th><th scope=col>std.err</th><th scope=col>score</th><th scope=col>p.value</th><th scope=col>fdr</th></tr>\n",
       "\t<tr><th scope=col>&lt;dbl&gt;</th><th scope=col>&lt;chr&gt;</th><th scope=col>&lt;dbl&gt;</th><th scope=col>&lt;dbl&gt;</th><th scope=col>&lt;chr&gt;</th><th scope=col>&lt;chr&gt;</th><th scope=col>&lt;dbl&gt;</th><th scope=col>&lt;dbl&gt;</th><th scope=col>&lt;dbl&gt;</th><th scope=col>&lt;dbl&gt;</th><th scope=col>&lt;dbl&gt;</th></tr>\n",
       "</thead>\n",
       "<tbody>\n",
       "\t<tr><td>6</td><td>6:52438563:G:A </td><td>0</td><td> 52438563</td><td>A</td><td>G</td><td>-2.824782</td><td>0.7257148</td><td>-3.892413</td><td>0.0001775838</td><td>0.6689582</td></tr>\n",
       "\t<tr><td>7</td><td>7:105508146:G:A</td><td>0</td><td>105508146</td><td>A</td><td>G</td><td> 5.109052</td><td>1.4288079</td><td> 3.575744</td><td>0.0005706030</td><td>0.7319412</td></tr>\n",
       "\t<tr><td>1</td><td>1:39753608:T:C </td><td>0</td><td> 39753608</td><td>C</td><td>T</td><td> 1.224790</td><td>0.3431045</td><td> 3.569729</td><td>0.0005829105</td><td>0.7319412</td></tr>\n",
       "</tbody>\n",
       "</table>\n"
      ],
      "text/latex": [
       "A tibble: 3 × 11\n",
       "\\begin{tabular}{lllllllllll}\n",
       " chromosome & marker.ID & genetic.dist & physical.pos & allele1 & allele2 & estim & std.err & score & p.value & fdr\\\\\n",
       " <dbl> & <chr> & <dbl> & <dbl> & <chr> & <chr> & <dbl> & <dbl> & <dbl> & <dbl> & <dbl>\\\\\n",
       "\\hline\n",
       "\t 6 & 6:52438563:G:A  & 0 &  52438563 & A & G & -2.824782 & 0.7257148 & -3.892413 & 0.0001775838 & 0.6689582\\\\\n",
       "\t 7 & 7:105508146:G:A & 0 & 105508146 & A & G &  5.109052 & 1.4288079 &  3.575744 & 0.0005706030 & 0.7319412\\\\\n",
       "\t 1 & 1:39753608:T:C  & 0 &  39753608 & C & T &  1.224790 & 0.3431045 &  3.569729 & 0.0005829105 & 0.7319412\\\\\n",
       "\\end{tabular}\n"
      ],
      "text/markdown": [
       "\n",
       "A tibble: 3 × 11\n",
       "\n",
       "| chromosome &lt;dbl&gt; | marker.ID &lt;chr&gt; | genetic.dist &lt;dbl&gt; | physical.pos &lt;dbl&gt; | allele1 &lt;chr&gt; | allele2 &lt;chr&gt; | estim &lt;dbl&gt; | std.err &lt;dbl&gt; | score &lt;dbl&gt; | p.value &lt;dbl&gt; | fdr &lt;dbl&gt; |\n",
       "|---|---|---|---|---|---|---|---|---|---|---|\n",
       "| 6 | 6:52438563:G:A  | 0 |  52438563 | A | G | -2.824782 | 0.7257148 | -3.892413 | 0.0001775838 | 0.6689582 |\n",
       "| 7 | 7:105508146:G:A | 0 | 105508146 | A | G |  5.109052 | 1.4288079 |  3.575744 | 0.0005706030 | 0.7319412 |\n",
       "| 1 | 1:39753608:T:C  | 0 |  39753608 | C | T |  1.224790 | 0.3431045 |  3.569729 | 0.0005829105 | 0.7319412 |\n",
       "\n"
      ],
      "text/plain": [
       "  chromosome marker.ID       genetic.dist physical.pos allele1 allele2\n",
       "1 6          6:52438563:G:A  0             52438563    A       G      \n",
       "2 7          7:105508146:G:A 0            105508146    A       G      \n",
       "3 1          1:39753608:T:C  0             39753608    C       T      \n",
       "  estim     std.err   score     p.value      fdr      \n",
       "1 -2.824782 0.7257148 -3.892413 0.0001775838 0.6689582\n",
       "2  5.109052 1.4288079  3.575744 0.0005706030 0.7319412\n",
       "3  1.224790 0.3431045  3.569729 0.0005829105 0.7319412"
      ]
     },
     "metadata": {},
     "output_type": "display_data"
    }
   ],
   "source": [
    "system('dx download gwas/height_signif_snp.csv')\n",
    "snp <- readr::read_csv('./height_signif_snp.csv', show_col_types = FALSE)\n",
    "head(snp)"
   ]
  },
  {
   "cell_type": "markdown",
   "metadata": {},
   "source": [
    "## Construct the GenomicRanges object from the list of variants"
   ]
  },
  {
   "cell_type": "markdown",
   "metadata": {},
   "source": [
    "In this step, we use the genomic coordinates (chromosome and physical position) of variants to construct the GenomicRanges object."
   ]
  },
  {
   "cell_type": "code",
   "execution_count": 5,
   "metadata": {
    "tags": [],
    "vscode": {
     "languageId": "r"
    }
   },
   "outputs": [],
   "source": [
    "snp_gr <- makeGRangesFromDataFrame(\n",
    "    snp, \n",
    "    seqnames.field = 'chromosome', \n",
    "    start.field = 'physical.pos', \n",
    "    end.field = 'physical.pos', \n",
    "    keep.extra.columns = TRUE)"
   ]
  },
  {
   "cell_type": "markdown",
   "metadata": {},
   "source": [
    "The GRanges object consists of 3 mandatory fields: `seqnames` - the name of the chromosome, `ranges` - position on the chromosome and `strand` - the strand, where `*` denote any strand.\n",
    "In addition, there can be an arbitrary number of additional annotation fields. We use them to store marker ID, the information about alleles and statistics from GWAS analysis. "
   ]
  },
  {
   "cell_type": "code",
   "execution_count": 6,
   "metadata": {
    "tags": [],
    "vscode": {
     "languageId": "r"
    }
   },
   "outputs": [
    {
     "data": {
      "text/plain": [
       "GRanges object with 3 ranges and 9 metadata columns:\n",
       "      seqnames    ranges strand |       marker.ID genetic.dist     allele1\n",
       "         <Rle> <IRanges>  <Rle> |     <character>    <numeric> <character>\n",
       "  [1]        6  52438563      * |  6:52438563:G:A            0           A\n",
       "  [2]        7 105508146      * | 7:105508146:G:A            0           A\n",
       "  [3]        1  39753608      * |  1:39753608:T:C            0           C\n",
       "          allele2     estim   std.err     score     p.value       fdr\n",
       "      <character> <numeric> <numeric> <numeric>   <numeric> <numeric>\n",
       "  [1]           G  -2.82478  0.725715  -3.89241 0.000177584  0.668958\n",
       "  [2]           G   5.10905  1.428808   3.57574 0.000570603  0.731941\n",
       "  [3]           T   1.22479  0.343105   3.56973 0.000582910  0.731941\n",
       "  -------\n",
       "  seqinfo: 3 sequences from an unspecified genome; no seqlengths"
      ]
     },
     "metadata": {},
     "output_type": "display_data"
    }
   ],
   "source": [
    "head(snp_gr)"
   ]
  },
  {
   "cell_type": "markdown",
   "metadata": {},
   "source": [
    "Next, we convert a `GenomicRanges` structure to `VariantRanges` class.  `VRanges` structure is a specialized extension of `GRanges`, designed specifically to hold information about genomic variation. "
   ]
  },
  {
   "cell_type": "code",
   "execution_count": 7,
   "metadata": {
    "tags": [],
    "vscode": {
     "languageId": "r"
    }
   },
   "outputs": [],
   "source": [
    "vr <- VRanges(\n",
    "    seqnames = seqnames(snp_gr),\n",
    "    ranges = ranges(snp_gr),\n",
    "    ref = snp_gr$allele1, \n",
    "    alt = snp_gr$allele2)\n",
    "\n",
    "seqlevelsStyle(vr) <- seqlevelsStyle(TxDb.Hsapiens.UCSC.hg38.knownGene)"
   ]
  },
  {
   "cell_type": "code",
   "execution_count": 8,
   "metadata": {
    "tags": [],
    "vscode": {
     "languageId": "r"
    }
   },
   "outputs": [
    {
     "data": {
      "text/plain": [
       "VRanges object with 3 ranges and 0 metadata columns:\n",
       "      seqnames    ranges strand         ref              alt     totalDepth\n",
       "         <Rle> <IRanges>  <Rle> <character> <characterOrRle> <integerOrRle>\n",
       "  [1]     chr6  52438563      *           A                G           <NA>\n",
       "  [2]     chr7 105508146      *           A                G           <NA>\n",
       "  [3]     chr1  39753608      *           C                T           <NA>\n",
       "            refDepth       altDepth   sampleNames softFilterMatrix\n",
       "      <integerOrRle> <integerOrRle> <factorOrRle>         <matrix>\n",
       "  [1]           <NA>           <NA>          <NA>                 \n",
       "  [2]           <NA>           <NA>          <NA>                 \n",
       "  [3]           <NA>           <NA>          <NA>                 \n",
       "  -------\n",
       "  seqinfo: 3 sequences from an unspecified genome; no seqlengths\n",
       "  hardFilters: NULL"
      ]
     },
     "metadata": {},
     "output_type": "display_data"
    }
   ],
   "source": [
    "head(vr)"
   ]
  },
  {
   "cell_type": "markdown",
   "metadata": {},
   "source": [
    "## Predict coding variants"
   ]
  },
  {
   "cell_type": "markdown",
   "metadata": {},
   "source": [
    "This function returns the amino acid coding for variants that fall completely `within' a coding region For further information on predictCoding click [here](https://www.rdocumentation.org/packages/VariantAnnotation/versions/1.18.5/topics/predictCoding)"
   ]
  },
  {
   "cell_type": "code",
   "execution_count": 11,
   "metadata": {
    "tags": [],
    "vscode": {
     "languageId": "r"
    }
   },
   "outputs": [
    {
     "data": {
      "text/plain": [
       "GRanges object with 6 ranges and 12 metadata columns:\n",
       "      seqnames    ranges strand |      varAllele    CDSLOC    PROTEINLOC\n",
       "         <Rle> <IRanges>  <Rle> | <DNAStringSet> <IRanges> <IntegerList>\n",
       "  [1]     chr6  52438563      + |              G       221            74\n",
       "  [2]     chr6  52438563      + |              G       221            74\n",
       "  [3]     chr6  52438563      + |              G       488           163\n",
       "  [4]     chr6  52438563      + |              G       545           182\n",
       "  [5]     chr6  52438563      + |              G       545           182\n",
       "  [6]     chr6  52438563      + |              G       545           182\n",
       "        QUERYID        TXID                 CDSID      GENEID CONSEQUENCE\n",
       "      <integer> <character>         <IntegerList> <character>    <factor>\n",
       "  [1]         1       82079 89667,89665,89666,...      114327  synonymous\n",
       "  [2]         1       82080 89667,89665,89666,...      114327  synonymous\n",
       "  [3]         1       82087 89667,89665,89666,...      114327  synonymous\n",
       "  [4]         1       82092 89667,89665,89666,...      114327  synonymous\n",
       "  [5]         1       82093 89667,89665,89666,...      114327  synonymous\n",
       "  [6]         1       82094 89667,89665,89666,...      114327  synonymous\n",
       "            REFCODON       VARCODON         REFAA         VARAA\n",
       "      <DNAStringSet> <DNAStringSet> <AAStringSet> <AAStringSet>\n",
       "  [1]            CGC            CGC             R             R\n",
       "  [2]            CGC            CGC             R             R\n",
       "  [3]            CGC            CGC             R             R\n",
       "  [4]            CGC            CGC             R             R\n",
       "  [5]            CGC            CGC             R             R\n",
       "  [6]            CGC            CGC             R             R\n",
       "  -------\n",
       "  seqinfo: 3 sequences from an unspecified genome; no seqlengths"
      ]
     },
     "metadata": {},
     "output_type": "display_data"
    }
   ],
   "source": [
    "coding <- predictCoding(vr, TxDb.Hsapiens.UCSC.hg38.knownGene, BSgenome.Hsapiens.UCSC.hg38)\n",
    "head(coding)"
   ]
  },
  {
   "cell_type": "markdown",
   "metadata": {},
   "source": [
    "## Locate variants\n",
    "\n",
    "We can assess the variant location with respect to gene function [more info](https://www.rdocumentation.org/packages/VariantAnnotation/versions/1.18.5/topics/locateVariants). \n",
    "In the examples below we select a different classes of variants based on functional annotation."
   ]
  },
  {
   "cell_type": "markdown",
   "metadata": {},
   "source": [
    "###  Coding variants"
   ]
  },
  {
   "cell_type": "code",
   "execution_count": 12,
   "metadata": {
    "tags": [],
    "vscode": {
     "languageId": "r"
    }
   },
   "outputs": [
    {
     "data": {
      "text/plain": [
       "GRanges object with 6 ranges and 9 metadata columns:\n",
       "      seqnames    ranges strand | LOCATION  LOCSTART    LOCEND   QUERYID\n",
       "         <Rle> <IRanges>  <Rle> | <factor> <integer> <integer> <integer>\n",
       "  [1]     chr6  52438563      + |   coding       221       221         1\n",
       "  [2]     chr6  52438563      + |   coding       221       221         1\n",
       "  [3]     chr6  52438563      + |   coding       488       488         1\n",
       "  [4]     chr6  52438563      + |   coding       545       545         1\n",
       "  [5]     chr6  52438563      + |   coding       545       545         1\n",
       "  [6]     chr6  52438563      + |   coding       545       545         1\n",
       "             TXID                 CDSID      GENEID       PRECEDEID\n",
       "      <character>         <IntegerList> <character> <CharacterList>\n",
       "  [1]       82079 89667,89665,89666,...      114327                \n",
       "  [2]       82080 89667,89665,89666,...      114327                \n",
       "  [3]       82087 89667,89665,89666,...      114327                \n",
       "  [4]       82092 89667,89665,89666,...      114327                \n",
       "  [5]       82093 89667,89665,89666,...      114327                \n",
       "  [6]       82094 89667,89665,89666,...      114327                \n",
       "             FOLLOWID\n",
       "      <CharacterList>\n",
       "  [1]                \n",
       "  [2]                \n",
       "  [3]                \n",
       "  [4]                \n",
       "  [5]                \n",
       "  [6]                \n",
       "  -------\n",
       "  seqinfo: 3 sequences from an unspecified genome; no seqlengths"
      ]
     },
     "metadata": {},
     "output_type": "display_data"
    }
   ],
   "source": [
    "cds <- locateVariants(vr, TxDb.Hsapiens.UCSC.hg38.knownGene, CodingVariants())\n",
    "head(cds)"
   ]
  },
  {
   "cell_type": "markdown",
   "metadata": {},
   "source": [
    "### Five UTR variants"
   ]
  },
  {
   "cell_type": "code",
   "execution_count": 13,
   "metadata": {
    "tags": [],
    "vscode": {
     "languageId": "r"
    }
   },
   "outputs": [
    {
     "name": "stderr",
     "output_type": "stream",
     "text": [
      "'select()' returned 1:1 mapping between keys and columns\n",
      "\n"
     ]
    },
    {
     "data": {
      "text/plain": [
       "GRanges object with 1 range and 9 metadata columns:\n",
       "      seqnames    ranges strand | LOCATION  LOCSTART    LOCEND   QUERYID\n",
       "         <Rle> <IRanges>  <Rle> | <factor> <integer> <integer> <integer>\n",
       "  [1]     chr6  52438563      + |  fiveUTR       429       429         1\n",
       "             TXID         CDSID      GENEID       PRECEDEID        FOLLOWID\n",
       "      <character> <IntegerList> <character> <CharacterList> <CharacterList>\n",
       "  [1]       82109                    114327                                \n",
       "  -------\n",
       "  seqinfo: 3 sequences from an unspecified genome; no seqlengths"
      ]
     },
     "metadata": {},
     "output_type": "display_data"
    }
   ],
   "source": [
    "five <- locateVariants(vr, TxDb.Hsapiens.UCSC.hg38.knownGene, FiveUTRVariants())\n",
    "head(five)"
   ]
  },
  {
   "cell_type": "markdown",
   "metadata": {},
   "source": [
    "### Variants overlapping splice sites"
   ]
  },
  {
   "cell_type": "code",
   "execution_count": 14,
   "metadata": {
    "tags": [],
    "vscode": {
     "languageId": "r"
    }
   },
   "outputs": [
    {
     "data": {
      "text/plain": [
       "GRanges object with 0 ranges and 9 metadata columns:\n",
       "   seqnames    ranges strand | LOCATION  LOCSTART    LOCEND   QUERYID      TXID\n",
       "      <Rle> <IRanges>  <Rle> | <factor> <integer> <integer> <integer> <integer>\n",
       "           CDSID      GENEID       PRECEDEID        FOLLOWID\n",
       "   <IntegerList> <character> <CharacterList> <CharacterList>\n",
       "  -------\n",
       "  seqinfo: no sequences"
      ]
     },
     "metadata": {},
     "output_type": "display_data"
    }
   ],
   "source": [
    "splice <- locateVariants(vr, TxDb.Hsapiens.UCSC.hg38.knownGene, SpliceSiteVariants())\n",
    "head(splice)"
   ]
  },
  {
   "cell_type": "markdown",
   "metadata": {},
   "source": [
    "### Intronic variants"
   ]
  },
  {
   "cell_type": "code",
   "execution_count": 15,
   "metadata": {
    "tags": [],
    "vscode": {
     "languageId": "r"
    }
   },
   "outputs": [
    {
     "name": "stderr",
     "output_type": "stream",
     "text": [
      "'select()' returned 1:1 mapping between keys and columns\n",
      "\n"
     ]
    },
    {
     "data": {
      "text/plain": [
       "GRanges object with 1 range and 9 metadata columns:\n",
       "      seqnames    ranges strand | LOCATION  LOCSTART    LOCEND   QUERYID\n",
       "         <Rle> <IRanges>  <Rle> | <factor> <integer> <integer> <integer>\n",
       "  [1]     chr6  52438563      - |   intron     17868     17868         1\n",
       "             TXID         CDSID      GENEID       PRECEDEID        FOLLOWID\n",
       "      <character> <IntegerList> <character> <CharacterList> <CharacterList>\n",
       "  [1]       73855                    729506                                \n",
       "  -------\n",
       "  seqinfo: 3 sequences from an unspecified genome; no seqlengths"
      ]
     },
     "metadata": {},
     "output_type": "display_data"
    }
   ],
   "source": [
    "intron <- locateVariants(vr, TxDb.Hsapiens.UCSC.hg38.knownGene, IntronVariants())\n",
    "head(intron)"
   ]
  },
  {
   "cell_type": "markdown",
   "metadata": {
    "vscode": {
     "languageId": "r"
    }
   },
   "source": [
    "head(intron)"
   ]
  },
  {
   "cell_type": "markdown",
   "metadata": {
    "vscode": {
     "languageId": "r"
    }
   },
   "source": [
    "## Summaries functional annotations\n",
    "\n",
    "We can summaries the number of the variants in functional classes"
   ]
  },
  {
   "cell_type": "code",
   "execution_count": 16,
   "metadata": {
    "tags": [],
    "vscode": {
     "languageId": "r"
    }
   },
   "outputs": [
    {
     "data": {
      "text/html": [
       "<style>\n",
       ".dl-inline {width: auto; margin:0; padding: 0}\n",
       ".dl-inline>dt, .dl-inline>dd {float: none; width: auto; display: inline-block}\n",
       ".dl-inline>dt::after {content: \":\\0020\"; padding-right: .5ex}\n",
       ".dl-inline>dt:not(:first-of-type) {padding-left: .5ex}\n",
       "</style><dl class=dl-inline><dt>cds</dt><dd>20</dd><dt>five</dt><dd>1</dd><dt>splice</dt><dd>0</dd><dt>intron</dt><dd>1</dd></dl>\n"
      ],
      "text/latex": [
       "\\begin{description*}\n",
       "\\item[cds] 20\n",
       "\\item[five] 1\n",
       "\\item[splice] 0\n",
       "\\item[intron] 1\n",
       "\\end{description*}\n"
      ],
      "text/markdown": [
       "cds\n",
       ":   20five\n",
       ":   1splice\n",
       ":   0intron\n",
       ":   1\n",
       "\n"
      ],
      "text/plain": [
       "   cds   five splice intron \n",
       "    20      1      0      1 "
      ]
     },
     "metadata": {},
     "output_type": "display_data"
    }
   ],
   "source": [
    "lengths(list(cds=cds, five=five, splice=splice, intron=intron))"
   ]
  },
  {
   "cell_type": "markdown",
   "metadata": {},
   "source": [
    "## Get more info about coding genes\n",
    "\n",
    "This function will convert coding Gene IDs to Ensembl IDs, gene names and short functional descriptions."
   ]
  },
  {
   "cell_type": "code",
   "execution_count": 17,
   "metadata": {
    "tags": [],
    "vscode": {
     "languageId": "r"
    }
   },
   "outputs": [
    {
     "data": {
      "text/html": [
       "<table class=\"dataframe\">\n",
       "<caption>A data.frame: 2 × 7</caption>\n",
       "<thead>\n",
       "\t<tr><th scope=col>input_number</th><th scope=col>input</th><th scope=col>target_number</th><th scope=col>target</th><th scope=col>name</th><th scope=col>description</th><th scope=col>namespace</th></tr>\n",
       "\t<tr><th scope=col>&lt;int&gt;</th><th scope=col>&lt;chr&gt;</th><th scope=col>&lt;chr&gt;</th><th scope=col>&lt;chr&gt;</th><th scope=col>&lt;chr&gt;</th><th scope=col>&lt;chr&gt;</th><th scope=col>&lt;chr&gt;</th></tr>\n",
       "</thead>\n",
       "<tbody>\n",
       "\t<tr><td>1</td><td>114327</td><td>1.1</td><td>ENSG00000096093</td><td>EFHC1</td><td>EF-hand domain containing 1 [Source:HGNC Symbol;Acc:HGNC:16406]</td><td>ENTREZGENE_ACC</td></tr>\n",
       "\t<tr><td>2</td><td>54517 </td><td>2.1</td><td>ENSG00000091127</td><td>PUS7 </td><td>pseudouridine synthase 7 [Source:HGNC Symbol;Acc:HGNC:26033]   </td><td>ENTREZGENE_ACC</td></tr>\n",
       "</tbody>\n",
       "</table>\n"
      ],
      "text/latex": [
       "A data.frame: 2 × 7\n",
       "\\begin{tabular}{lllllll}\n",
       " input\\_number & input & target\\_number & target & name & description & namespace\\\\\n",
       " <int> & <chr> & <chr> & <chr> & <chr> & <chr> & <chr>\\\\\n",
       "\\hline\n",
       "\t 1 & 114327 & 1.1 & ENSG00000096093 & EFHC1 & EF-hand domain containing 1 {[}Source:HGNC Symbol;Acc:HGNC:16406{]} & ENTREZGENE\\_ACC\\\\\n",
       "\t 2 & 54517  & 2.1 & ENSG00000091127 & PUS7  & pseudouridine synthase 7 {[}Source:HGNC Symbol;Acc:HGNC:26033{]}    & ENTREZGENE\\_ACC\\\\\n",
       "\\end{tabular}\n"
      ],
      "text/markdown": [
       "\n",
       "A data.frame: 2 × 7\n",
       "\n",
       "| input_number &lt;int&gt; | input &lt;chr&gt; | target_number &lt;chr&gt; | target &lt;chr&gt; | name &lt;chr&gt; | description &lt;chr&gt; | namespace &lt;chr&gt; |\n",
       "|---|---|---|---|---|---|---|\n",
       "| 1 | 114327 | 1.1 | ENSG00000096093 | EFHC1 | EF-hand domain containing 1 [Source:HGNC Symbol;Acc:HGNC:16406] | ENTREZGENE_ACC |\n",
       "| 2 | 54517  | 2.1 | ENSG00000091127 | PUS7  | pseudouridine synthase 7 [Source:HGNC Symbol;Acc:HGNC:26033]    | ENTREZGENE_ACC |\n",
       "\n"
      ],
      "text/plain": [
       "  input_number input  target_number target          name \n",
       "1 1            114327 1.1           ENSG00000096093 EFHC1\n",
       "2 2            54517  2.1           ENSG00000091127 PUS7 \n",
       "  description                                                    \n",
       "1 EF-hand domain containing 1 [Source:HGNC Symbol;Acc:HGNC:16406]\n",
       "2 pseudouridine synthase 7 [Source:HGNC Symbol;Acc:HGNC:26033]   \n",
       "  namespace     \n",
       "1 ENTREZGENE_ACC\n",
       "2 ENTREZGENE_ACC"
      ]
     },
     "metadata": {},
     "output_type": "display_data"
    }
   ],
   "source": [
    "gconvert(query = unique(coding$GENEID), organism = \"hsapiens\", numeric_ns = 'ENTREZGENE_ACC')"
   ]
  }
 ],
 "metadata": {
  "kernelspec": {
   "display_name": "R",
   "language": "R",
   "name": "ir"
  },
  "language_info": {
   "codemirror_mode": "r",
   "file_extension": ".r",
   "mimetype": "text/x-r-source",
   "name": "R",
   "pygments_lexer": "r",
   "version": "4.2.2"
  }
 },
 "nbformat": 4,
 "nbformat_minor": 4
}
